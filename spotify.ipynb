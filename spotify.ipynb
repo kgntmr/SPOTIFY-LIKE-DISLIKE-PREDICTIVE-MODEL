{
  "cells": [
    {
      "cell_type": "markdown",
      "metadata": {
        "id": "NrXSmB_Lexh1"
      },
      "source": [
        "# **SPOTIFY-LIKE PREDICTION MODEL**"
      ]
    },
    {
      "cell_type": "markdown",
      "metadata": {
        "id": "GuXSUMB1xIzq"
      },
      "source": [
        " **OBJECTIVE OF THE STUDY**       \n",
        "1.Classification using different Machine Learning Algorithms                                                                   \n",
        "2.Comparing the performance of Classification techniques based on Accuracy\n"
      ]
    },
    {
      "cell_type": "markdown",
      "metadata": {
        "id": "67DqOgxmyhm-"
      },
      "source": [
        "**ABOUT THE DATASET**  \n",
        "This dataset includes a wide range of attributes relating to songs that have been liked and disliked on Spotify.     \n",
        "\n",
        "1.**danceability**: value in range of 0.0 which is least danceable to 1.0 which is most danceable.  \n",
        "\n",
        "2.**energy**: It measure from 0.0 to 1.0 and represents a perceptual measure of intensity and activity.\n",
        "\n",
        "3.**key**: The key the track is in. Integers map to pitches using standard Pitch Class notation.  \n",
        "\n",
        "4.**loudness**: The overall loudness of a track in decibels(dB).Values typical range between -60 dB and 0 dB.  \n",
        "\n",
        "5.**mode**: It indicates the modality (major or minor) of a track. Major is represented by 1 and minor is 0.    \n",
        "\n",
        "6.**speechiness**: Speechiness detects the presence of spoken words in a track. The value near 1.0 indicates talks-show, poetry and audi book. Value above 0.66 indicates tracks made entirely of spoken words.Values between 0.33 and 0.66 describe tracks that may contain both music and speech. Values below 0.33 most likely represent non-speech-like tracks.  \n",
        "\n",
        "7.**acousticness**: A confidence measure from 0.0 to 1.0 of whether the track is acoustic. 1.0 represents high confidence the track is acoustic.  \n",
        "\n",
        "8.**instrumentalness**: Predicts whether a track contains no vocals.“Ooh” and “aah” sounds are treated as instrumental in this context. Rap or spoken word tracks are clearly “vocal”. The closer the instrumentalness value is to 1.0, the greater likelihood the track contains no vocal content. Values above 0.5 are intended to represent instrumental tracks, but confidence is higher as the value approaches 1.0.  \n",
        "\n",
        "9.**liveness**: Detects the presence of an audience in the recording. Higher liveness values represent an increased probability that the track was performed live. A value above 0.8 provides strong likelihood that the track is live.  \n",
        "\n",
        "10.**valence**: A measure from 0.0 to 1.0 describing the musical positiveness conveyed by a track. Tracks with high valence sound more positive (e.g. happy, cheerful, euphoric), while tracks with low valence sound more negative (e.g. sad, depressed, angry).\n",
        "\n",
        "11.**tempo**: The overall estimated tempo of a track in beats per minute (BPM).   \n",
        "\n",
        "12.**duration_ms**: The duration of the track in milliseconds.  \n",
        "\n",
        "13.**time_signature**: The time signature is a notational convention to specify how many beats are in each bar.  \n",
        "\n",
        "14.**liked**: 1 for liked songs , 0 for disliked songs\n"
      ]
    },
    {
      "cell_type": "code",
      "execution_count": 97,
      "metadata": {},
      "outputs": [
        {
          "name": "stdout",
          "output_type": "stream",
          "text": [
            "Requirement already satisfied: imbalanced-learn in /opt/anaconda3/lib/python3.9/site-packages (0.11.0)\n",
            "Requirement already satisfied: threadpoolctl>=2.0.0 in /opt/anaconda3/lib/python3.9/site-packages (from imbalanced-learn) (2.2.0)\n",
            "Requirement already satisfied: joblib>=1.1.1 in /opt/anaconda3/lib/python3.9/site-packages (from imbalanced-learn) (1.2.0)\n",
            "Requirement already satisfied: scikit-learn>=1.0.2 in /opt/anaconda3/lib/python3.9/site-packages (from imbalanced-learn) (1.2.2)\n",
            "Requirement already satisfied: numpy>=1.17.3 in /opt/anaconda3/lib/python3.9/site-packages (from imbalanced-learn) (1.23.5)\n",
            "Requirement already satisfied: scipy>=1.5.0 in /opt/anaconda3/lib/python3.9/site-packages (from imbalanced-learn) (1.10.0)\n",
            "Note: you may need to restart the kernel to use updated packages.\n"
          ]
        }
      ],
      "source": [
        "pip install imbalanced-learn"
      ]
    },
    {
      "cell_type": "code",
      "execution_count": 98,
      "metadata": {},
      "outputs": [
        {
          "name": "stdout",
          "output_type": "stream",
          "text": [
            "Requirement already satisfied: xgboost in /opt/anaconda3/lib/python3.9/site-packages (1.7.6)\n",
            "Requirement already satisfied: numpy in /opt/anaconda3/lib/python3.9/site-packages (from xgboost) (1.23.5)\n",
            "Requirement already satisfied: scipy in /opt/anaconda3/lib/python3.9/site-packages (from xgboost) (1.10.0)\n",
            "Note: you may need to restart the kernel to use updated packages.\n"
          ]
        }
      ],
      "source": [
        "pip install xgboost"
      ]
    },
    {
      "cell_type": "markdown",
      "metadata": {
        "id": "Zla7MBmjpeN0"
      },
      "source": [
        "**IMPORT LIBRARIES**"
      ]
    },
    {
      "cell_type": "code",
      "execution_count": 99,
      "metadata": {
        "colab": {
          "base_uri": "https://localhost:8080/"
        },
        "id": "EjowuXmlJGAO",
        "outputId": "4554c384-497a-4c89-d9d2-2527236e8b52"
      },
      "outputs": [
        {
          "name": "stdout",
          "output_type": "stream",
          "text": [
            "Requirement already satisfied: skfeature-chappers in /opt/anaconda3/lib/python3.9/site-packages (1.1.0)\n",
            "Requirement already satisfied: pandas in /opt/anaconda3/lib/python3.9/site-packages (from skfeature-chappers) (2.0.1)\n",
            "Requirement already satisfied: scikit-learn in /opt/anaconda3/lib/python3.9/site-packages (from skfeature-chappers) (1.2.2)\n",
            "Requirement already satisfied: numpy in /opt/anaconda3/lib/python3.9/site-packages (from skfeature-chappers) (1.23.5)\n",
            "Requirement already satisfied: python-dateutil>=2.8.2 in /opt/anaconda3/lib/python3.9/site-packages (from pandas->skfeature-chappers) (2.8.2)\n",
            "Requirement already satisfied: tzdata>=2022.1 in /opt/anaconda3/lib/python3.9/site-packages (from pandas->skfeature-chappers) (2023.3)\n",
            "Requirement already satisfied: pytz>=2020.1 in /opt/anaconda3/lib/python3.9/site-packages (from pandas->skfeature-chappers) (2022.7)\n",
            "Requirement already satisfied: joblib>=1.1.1 in /opt/anaconda3/lib/python3.9/site-packages (from scikit-learn->skfeature-chappers) (1.2.0)\n",
            "Requirement already satisfied: threadpoolctl>=2.0.0 in /opt/anaconda3/lib/python3.9/site-packages (from scikit-learn->skfeature-chappers) (2.2.0)\n",
            "Requirement already satisfied: scipy>=1.3.2 in /opt/anaconda3/lib/python3.9/site-packages (from scikit-learn->skfeature-chappers) (1.10.0)\n",
            "Requirement already satisfied: six>=1.5 in /opt/anaconda3/lib/python3.9/site-packages (from python-dateutil>=2.8.2->pandas->skfeature-chappers) (1.16.0)\n"
          ]
        }
      ],
      "source": [
        "import pandas as pd\n",
        "import warnings\n",
        "warnings.filterwarnings('ignore')\n",
        "import seaborn as sns\n",
        "import matplotlib.pyplot as plt\n",
        "import numpy as np\n",
        "from imblearn.over_sampling import SMOTE\n",
        "from sklearn.preprocessing import MinMaxScaler\n",
        "from sklearn.model_selection import train_test_split,GridSearchCV\n",
        "from sklearn.neighbors import KNeighborsClassifier\n",
        "from sklearn.svm import SVC\n",
        "from sklearn.naive_bayes import GaussianNB\n",
        "from sklearn.tree import DecisionTreeClassifier\n",
        "from sklearn.ensemble import RandomForestClassifier,AdaBoostClassifier\n",
        "from sklearn.metrics import classification_report,ConfusionMatrixDisplay\n",
        "from sklearn.decomposition import PCA\n",
        "from sklearn.feature_selection import SelectKBest,chi2\n",
        "from xgboost import XGBClassifier\n",
        "!pip install skfeature-chappers\n",
        "from skfeature.function.similarity_based import fisher_score\n",
        "\n"
      ]
    },
    {
      "cell_type": "markdown",
      "metadata": {
        "id": "D6OinyCosCJ1"
      },
      "source": [
        "**IMPORT DATASET**"
      ]
    },
    {
      "cell_type": "code",
      "execution_count": 100,
      "metadata": {
        "colab": {
          "base_uri": "https://localhost:8080/",
          "height": 487
        },
        "id": "gH-8In-NLlCp",
        "outputId": "236d47ff-ca7f-478e-8515-ad5a789693fe"
      },
      "outputs": [
        {
          "data": {
            "text/html": [
              "<div>\n",
              "<style scoped>\n",
              "    .dataframe tbody tr th:only-of-type {\n",
              "        vertical-align: middle;\n",
              "    }\n",
              "\n",
              "    .dataframe tbody tr th {\n",
              "        vertical-align: top;\n",
              "    }\n",
              "\n",
              "    .dataframe thead th {\n",
              "        text-align: right;\n",
              "    }\n",
              "</style>\n",
              "<table border=\"1\" class=\"dataframe\">\n",
              "  <thead>\n",
              "    <tr style=\"text-align: right;\">\n",
              "      <th></th>\n",
              "      <th>danceability</th>\n",
              "      <th>energy</th>\n",
              "      <th>key</th>\n",
              "      <th>loudness</th>\n",
              "      <th>mode</th>\n",
              "      <th>speechiness</th>\n",
              "      <th>acousticness</th>\n",
              "      <th>instrumentalness</th>\n",
              "      <th>liveness</th>\n",
              "      <th>valence</th>\n",
              "      <th>tempo</th>\n",
              "      <th>duration_ms</th>\n",
              "      <th>time_signature</th>\n",
              "      <th>liked</th>\n",
              "    </tr>\n",
              "  </thead>\n",
              "  <tbody>\n",
              "    <tr>\n",
              "      <th>0</th>\n",
              "      <td>0.803</td>\n",
              "      <td>0.6240</td>\n",
              "      <td>7</td>\n",
              "      <td>-6.764</td>\n",
              "      <td>0</td>\n",
              "      <td>0.0477</td>\n",
              "      <td>0.451</td>\n",
              "      <td>0.000734</td>\n",
              "      <td>0.1000</td>\n",
              "      <td>0.628</td>\n",
              "      <td>95.968</td>\n",
              "      <td>304524</td>\n",
              "      <td>4</td>\n",
              "      <td>0</td>\n",
              "    </tr>\n",
              "    <tr>\n",
              "      <th>1</th>\n",
              "      <td>0.762</td>\n",
              "      <td>0.7030</td>\n",
              "      <td>10</td>\n",
              "      <td>-7.951</td>\n",
              "      <td>0</td>\n",
              "      <td>0.3060</td>\n",
              "      <td>0.206</td>\n",
              "      <td>0.000000</td>\n",
              "      <td>0.0912</td>\n",
              "      <td>0.519</td>\n",
              "      <td>151.329</td>\n",
              "      <td>247178</td>\n",
              "      <td>4</td>\n",
              "      <td>1</td>\n",
              "    </tr>\n",
              "    <tr>\n",
              "      <th>2</th>\n",
              "      <td>0.261</td>\n",
              "      <td>0.0149</td>\n",
              "      <td>1</td>\n",
              "      <td>-27.528</td>\n",
              "      <td>1</td>\n",
              "      <td>0.0419</td>\n",
              "      <td>0.992</td>\n",
              "      <td>0.897000</td>\n",
              "      <td>0.1020</td>\n",
              "      <td>NaN</td>\n",
              "      <td>75.296</td>\n",
              "      <td>286987</td>\n",
              "      <td>4</td>\n",
              "      <td>0</td>\n",
              "    </tr>\n",
              "    <tr>\n",
              "      <th>3</th>\n",
              "      <td>0.722</td>\n",
              "      <td>0.7360</td>\n",
              "      <td>3</td>\n",
              "      <td>-6.994</td>\n",
              "      <td>0</td>\n",
              "      <td>0.0585</td>\n",
              "      <td>0.431</td>\n",
              "      <td>0.000001</td>\n",
              "      <td>0.1230</td>\n",
              "      <td>0.582</td>\n",
              "      <td>89.860</td>\n",
              "      <td>208920</td>\n",
              "      <td>4</td>\n",
              "      <td>1</td>\n",
              "    </tr>\n",
              "    <tr>\n",
              "      <th>4</th>\n",
              "      <td>0.787</td>\n",
              "      <td>0.5720</td>\n",
              "      <td>1</td>\n",
              "      <td>-7.516</td>\n",
              "      <td>1</td>\n",
              "      <td>0.2220</td>\n",
              "      <td>0.145</td>\n",
              "      <td>0.000000</td>\n",
              "      <td>0.0753</td>\n",
              "      <td>0.647</td>\n",
              "      <td>155.117</td>\n",
              "      <td>179413</td>\n",
              "      <td>4</td>\n",
              "      <td>1</td>\n",
              "    </tr>\n",
              "  </tbody>\n",
              "</table>\n",
              "</div>"
            ],
            "text/plain": [
              "   danceability  energy  key  loudness  mode  speechiness  acousticness   \n",
              "0         0.803  0.6240    7    -6.764     0       0.0477         0.451  \\\n",
              "1         0.762  0.7030   10    -7.951     0       0.3060         0.206   \n",
              "2         0.261  0.0149    1   -27.528     1       0.0419         0.992   \n",
              "3         0.722  0.7360    3    -6.994     0       0.0585         0.431   \n",
              "4         0.787  0.5720    1    -7.516     1       0.2220         0.145   \n",
              "\n",
              "   instrumentalness  liveness  valence    tempo  duration_ms  time_signature   \n",
              "0          0.000734    0.1000    0.628   95.968       304524               4  \\\n",
              "1          0.000000    0.0912    0.519  151.329       247178               4   \n",
              "2          0.897000    0.1020      NaN   75.296       286987               4   \n",
              "3          0.000001    0.1230    0.582   89.860       208920               4   \n",
              "4          0.000000    0.0753    0.647  155.117       179413               4   \n",
              "\n",
              "   liked  \n",
              "0      0  \n",
              "1      1  \n",
              "2      0  \n",
              "3      1  \n",
              "4      1  "
            ]
          },
          "execution_count": 100,
          "metadata": {},
          "output_type": "execute_result"
        }
      ],
      "source": [
        "df=pd.read_csv('/Users/kagantimur/Desktop/Spotify Predictive Model/spotify.csv')\n",
        "df.head()"
      ]
    },
    {
      "cell_type": "markdown",
      "metadata": {
        "id": "GUvIw3ZQsQq8"
      },
      "source": [
        "**DATA PREPROCESSING**"
      ]
    },
    {
      "cell_type": "code",
      "execution_count": 101,
      "metadata": {
        "colab": {
          "base_uri": "https://localhost:8080/"
        },
        "id": "C5A8ZtNlMJxJ",
        "outputId": "e51b692c-6e47-4fd4-9da2-da438e7b0a69"
      },
      "outputs": [
        {
          "data": {
            "text/plain": [
              "danceability         0\n",
              "energy               0\n",
              "key                  0\n",
              "loudness             0\n",
              "mode                 0\n",
              "speechiness          5\n",
              "acousticness         0\n",
              "instrumentalness     0\n",
              "liveness             0\n",
              "valence             13\n",
              "tempo                0\n",
              "duration_ms          0\n",
              "time_signature       0\n",
              "liked                0\n",
              "dtype: int64"
            ]
          },
          "execution_count": 101,
          "metadata": {},
          "output_type": "execute_result"
        }
      ],
      "source": [
        "#Checking for missing values\n",
        "df.isna().sum()"
      ]
    },
    {
      "cell_type": "code",
      "execution_count": 102,
      "metadata": {
        "colab": {
          "base_uri": "https://localhost:8080/"
        },
        "id": "ar5wKoNmMb_U",
        "outputId": "22cb9f4a-3577-43e4-a3b6-09c95c4cf52b"
      },
      "outputs": [
        {
          "data": {
            "text/plain": [
              "danceability        float64\n",
              "energy              float64\n",
              "key                   int64\n",
              "loudness            float64\n",
              "mode                  int64\n",
              "speechiness         float64\n",
              "acousticness        float64\n",
              "instrumentalness    float64\n",
              "liveness            float64\n",
              "valence             float64\n",
              "tempo               float64\n",
              "duration_ms           int64\n",
              "time_signature        int64\n",
              "liked                 int64\n",
              "dtype: object"
            ]
          },
          "execution_count": 102,
          "metadata": {},
          "output_type": "execute_result"
        }
      ],
      "source": [
        "df.dtypes"
      ]
    },
    {
      "cell_type": "markdown",
      "metadata": {
        "id": "JI4nsBh7uRU5"
      },
      "source": [
        "**MISSING VALUE HANDLING**"
      ]
    },
    {
      "cell_type": "code",
      "execution_count": 103,
      "metadata": {
        "id": "s2Imcx0kMoLc"
      },
      "outputs": [],
      "source": [
        "# Filling the missing values with the mean of the column\n",
        "columns_to_fill = ['speechiness', 'valence']\n",
        "\n",
        "for column in columns_to_fill:\n",
        "    df[column] = df[column].fillna(df[column].mean())"
      ]
    },
    {
      "cell_type": "code",
      "execution_count": 104,
      "metadata": {
        "colab": {
          "base_uri": "https://localhost:8080/"
        },
        "id": "RbwvUzOdNUb7",
        "outputId": "e96823da-bf85-4f5b-fb06-64c9bf51dba1"
      },
      "outputs": [
        {
          "data": {
            "text/plain": [
              "danceability        0\n",
              "energy              0\n",
              "key                 0\n",
              "loudness            0\n",
              "mode                0\n",
              "speechiness         0\n",
              "acousticness        0\n",
              "instrumentalness    0\n",
              "liveness            0\n",
              "valence             0\n",
              "tempo               0\n",
              "duration_ms         0\n",
              "time_signature      0\n",
              "liked               0\n",
              "dtype: int64"
            ]
          },
          "execution_count": 104,
          "metadata": {},
          "output_type": "execute_result"
        }
      ],
      "source": [
        "# Checking for missing values\n",
        "df.isna().sum()"
      ]
    },
    {
      "cell_type": "code",
      "execution_count": 105,
      "metadata": {
        "colab": {
          "base_uri": "https://localhost:8080/"
        },
        "id": "UPxJcKsNiTPC",
        "outputId": "f6339590-f357-45d3-a395-615eab36feb5"
      },
      "outputs": [
        {
          "data": {
            "text/plain": [
              "Index(['danceability', 'energy', 'key', 'loudness', 'mode', 'speechiness',\n",
              "       'acousticness', 'instrumentalness', 'liveness', 'valence', 'tempo',\n",
              "       'duration_ms', 'time_signature', 'liked'],\n",
              "      dtype='object')"
            ]
          },
          "execution_count": 105,
          "metadata": {},
          "output_type": "execute_result"
        }
      ],
      "source": [
        "df.columns"
      ]
    },
    {
      "cell_type": "code",
      "execution_count": 106,
      "metadata": {},
      "outputs": [
        {
          "name": "stdout",
          "output_type": "stream",
          "text": [
            "Outliers in danceability:\n",
            "Empty DataFrame\n",
            "Columns: [danceability, energy, key, loudness, mode, speechiness, acousticness, instrumentalness, liveness, valence, tempo, duration_ms, time_signature, liked]\n",
            "Index: []\n",
            "\n",
            "Outliers in energy:\n",
            "     danceability   energy  key  loudness  mode  speechiness  acousticness   \n",
            "2           0.261  0.01490    1   -27.528     1       0.0419         0.992  \\\n",
            "35          0.307  0.05150    4   -28.493     0       0.0324         0.708   \n",
            "48          0.267  0.00240    1   -42.261     0       0.0531         0.995   \n",
            "58          0.364  0.00799    8   -33.090     1       0.0395         0.978   \n",
            "62          0.318  0.06330    6   -23.869     1       0.0507         0.992   \n",
            "110         0.379  0.07500    0   -20.328     1       0.0408         0.992   \n",
            "129         0.213  0.06560    7   -24.810     1       0.0467         0.992   \n",
            "135         0.230  0.04870    5   -27.675     1       0.0412         0.986   \n",
            "138         0.334  0.00732    4   -30.908     0       0.0355         0.991   \n",
            "142         0.392  0.05360    4   -23.399     1       0.0571         0.995   \n",
            "158         0.368  0.00363    1   -36.759     1       0.0350         0.993   \n",
            "159         0.191  0.05820    8   -25.398     1       0.0578         0.961   \n",
            "167         0.335  0.02870   10   -27.400     1       0.0410         0.991   \n",
            "171         0.191  0.03170    9   -35.616     0       0.0407         0.984   \n",
            "190         0.166  0.05510    9   -19.494     0       0.0520         0.976   \n",
            "\n",
            "     instrumentalness  liveness   valence    tempo  duration_ms   \n",
            "2               0.897    0.1020  0.164846   75.296       286987  \\\n",
            "35              0.631    0.4200  0.124000  128.056       125533   \n",
            "48              0.897    0.0942  0.124000   71.428       397773   \n",
            "58              0.894    0.1090  0.124000  101.226       216093   \n",
            "62              0.871    0.0831  0.124000  129.466       199133   \n",
            "110             0.913    0.1060  0.124000   68.232       241187   \n",
            "129             0.969    0.0699  0.124000   65.023       150147   \n",
            "135             0.945    0.0679  0.124000  134.839       203656   \n",
            "138             0.952    0.0968  0.124000   60.171       241987   \n",
            "142             0.867    0.0808  0.124000   71.286       234467   \n",
            "158             0.922    0.1370  0.124000   69.363       254000   \n",
            "159             0.890    0.0941  0.124000  132.614       357707   \n",
            "167             0.888    0.0874  0.124000   67.446       328000   \n",
            "171             0.888    0.0974  0.124000  135.974       150733   \n",
            "190             0.635    0.1190  0.124000  176.616       206520   \n",
            "\n",
            "     time_signature  liked  \n",
            "2                 4      0  \n",
            "35                4      0  \n",
            "48                4      0  \n",
            "58                4      0  \n",
            "62                3      0  \n",
            "110               3      0  \n",
            "129               3      0  \n",
            "135               5      0  \n",
            "138               4      0  \n",
            "142               4      0  \n",
            "158               3      0  \n",
            "159               1      0  \n",
            "167               4      0  \n",
            "171               3      0  \n",
            "190               3      0  \n",
            "\n",
            "Outliers in loudness:\n",
            "     danceability   energy  key  loudness  mode  speechiness  acousticness   \n",
            "2           0.261  0.01490    1   -27.528     1       0.0419         0.992  \\\n",
            "21          0.438  0.08250    9   -21.686     0       0.0695         0.983   \n",
            "35          0.307  0.05150    4   -28.493     0       0.0324         0.708   \n",
            "48          0.267  0.00240    1   -42.261     0       0.0531         0.995   \n",
            "58          0.364  0.00799    8   -33.090     1       0.0395         0.978   \n",
            "62          0.318  0.06330    6   -23.869     1       0.0507         0.992   \n",
            "86          0.263  0.20200    1   -17.687     1       0.0408         0.984   \n",
            "110         0.379  0.07500    0   -20.328     1       0.0408         0.992   \n",
            "113         0.280  0.10400    2   -19.802     1       0.0336         0.935   \n",
            "129         0.213  0.06560    7   -24.810     1       0.0467         0.992   \n",
            "135         0.230  0.04870    5   -27.675     1       0.0412         0.986   \n",
            "138         0.334  0.00732    4   -30.908     0       0.0355         0.991   \n",
            "142         0.392  0.05360    4   -23.399     1       0.0571         0.995   \n",
            "158         0.368  0.00363    1   -36.759     1       0.0350         0.993   \n",
            "159         0.191  0.05820    8   -25.398     1       0.0578         0.961   \n",
            "167         0.335  0.02870   10   -27.400     1       0.0410         0.991   \n",
            "168         0.463  0.15500    5   -17.164     1       0.0440         0.877   \n",
            "170         0.205  0.12900    7   -18.197     1       0.0595         0.968   \n",
            "171         0.191  0.03170    9   -35.616     0       0.0407         0.984   \n",
            "190         0.166  0.05510    9   -19.494     0       0.0520         0.976   \n",
            "\n",
            "     instrumentalness  liveness   valence    tempo  duration_ms   \n",
            "2              0.8970    0.1020  0.164846   75.296       286987  \\\n",
            "21             0.0749    0.0461  0.124000  106.275       270000   \n",
            "35             0.6310    0.4200  0.124000  128.056       125533   \n",
            "48             0.8970    0.0942  0.124000   71.428       397773   \n",
            "58             0.8940    0.1090  0.124000  101.226       216093   \n",
            "62             0.8710    0.0831  0.124000  129.466       199133   \n",
            "86             0.9050    0.0890  0.124000   71.462       545747   \n",
            "110            0.9130    0.1060  0.124000   68.232       241187   \n",
            "113            0.8660    0.3620  0.124000   92.628       310000   \n",
            "129            0.9690    0.0699  0.124000   65.023       150147   \n",
            "135            0.9450    0.0679  0.124000  134.839       203656   \n",
            "138            0.9520    0.0968  0.124000   60.171       241987   \n",
            "142            0.8670    0.0808  0.124000   71.286       234467   \n",
            "158            0.9220    0.1370  0.124000   69.363       254000   \n",
            "159            0.8900    0.0941  0.124000  132.614       357707   \n",
            "167            0.8880    0.0874  0.124000   67.446       328000   \n",
            "168            0.2610    0.1050  0.124000  122.437       301720   \n",
            "170            0.9460    0.1010  0.124000  136.871       169924   \n",
            "171            0.8880    0.0974  0.124000  135.974       150733   \n",
            "190            0.6350    0.1190  0.124000  176.616       206520   \n",
            "\n",
            "     time_signature  liked  \n",
            "2                 4      0  \n",
            "21                5      0  \n",
            "35                4      0  \n",
            "48                4      0  \n",
            "58                4      0  \n",
            "62                3      0  \n",
            "86                4      0  \n",
            "110               3      0  \n",
            "113               4      0  \n",
            "129               3      0  \n",
            "135               5      0  \n",
            "138               4      0  \n",
            "142               4      0  \n",
            "158               3      0  \n",
            "159               1      0  \n",
            "167               4      0  \n",
            "168               4      0  \n",
            "170               4      0  \n",
            "171               3      0  \n",
            "190               3      0  \n",
            "\n",
            "Outliers in speechiness:\n",
            "     danceability  energy  key  loudness  mode  speechiness  acousticness   \n",
            "50          0.616   0.534   10   -10.264     0        0.483         0.639  \\\n",
            "119         0.828   0.748    1    -8.348     0        0.507         0.639   \n",
            "120         0.671   0.584    9    -9.959     0        0.540         0.650   \n",
            "\n",
            "     instrumentalness  liveness  valence    tempo  duration_ms   \n",
            "50                0.0    0.0844    0.124  170.054       146480  \\\n",
            "119               0.0    0.3400    0.124  129.433       203048   \n",
            "120               0.0    0.1280    0.124  119.303       209440   \n",
            "\n",
            "     time_signature  liked  \n",
            "50                4      1  \n",
            "119               4      1  \n",
            "120               5      1  \n",
            "\n",
            "Outliers in acousticness:\n",
            "Empty DataFrame\n",
            "Columns: [danceability, energy, key, loudness, mode, speechiness, acousticness, instrumentalness, liveness, valence, tempo, duration_ms, time_signature, liked]\n",
            "Index: []\n",
            "\n",
            "Outliers in instrumentalness:\n",
            "     danceability   energy  key  loudness  mode  speechiness  acousticness   \n",
            "2           0.261  0.01490    1   -27.528     1       0.0419      0.992000  \\\n",
            "10          0.297  0.99300    9    -7.173     1       0.1180      0.000057   \n",
            "12          0.297  0.97300    1    -4.505     1       0.1510      0.001460   \n",
            "35          0.307  0.05150    4   -28.493     0       0.0324      0.708000   \n",
            "37          0.448  0.97000    1    -4.197     1       0.1050      0.000428   \n",
            "40          0.358  0.97700    8    -8.179     0       0.0727      0.000082   \n",
            "44          0.184  0.97400    8    -6.237     0       0.1060      0.000023   \n",
            "45          0.373  0.98000    1    -5.016     0       0.1220      0.000319   \n",
            "48          0.267  0.00240    1   -42.261     0       0.0531      0.995000   \n",
            "49          0.462  0.97400    1    -5.820     1       0.0816      0.000029   \n",
            "54          0.363  0.99400    8    -5.781     1       0.1310      0.000037   \n",
            "58          0.364  0.00799    8   -33.090     1       0.0395      0.978000   \n",
            "59          0.247  0.99200    8    -7.766     0       0.0772      0.000029   \n",
            "62          0.318  0.06330    6   -23.869     1       0.0507      0.992000   \n",
            "64          0.138  0.99100    8    -5.661     1       0.1750      0.000015   \n",
            "75          0.454  0.96800    6    -6.289     1       0.0787      0.000017   \n",
            "76          0.446  0.97700   10    -5.036     0       0.0781      0.000535   \n",
            "83          0.701  0.34100    1   -12.260     0       0.0418      0.499000   \n",
            "86          0.263  0.20200    1   -17.687     1       0.0408      0.984000   \n",
            "87          0.338  0.98800    8    -7.290     0       0.0865      0.000083   \n",
            "93          0.798  0.74600   10    -8.639     1       0.0313      0.030400   \n",
            "103         0.251  0.98100   10    -7.282     0       0.1180      0.000063   \n",
            "106         0.290  0.93400   10    -4.679     0       0.0962      0.000325   \n",
            "107         0.235  0.36500    7   -13.864     1       0.0356      0.927000   \n",
            "110         0.379  0.07500    0   -20.328     1       0.0408      0.992000   \n",
            "113         0.280  0.10400    2   -19.802     1       0.0336      0.935000   \n",
            "114         0.256  0.95200    7    -8.631     0       0.1030      0.000022   \n",
            "115         0.245  0.91500    1    -8.992     1       0.0718      0.000099   \n",
            "116         0.720  0.82800    5    -9.211     1       0.0462      0.185000   \n",
            "129         0.213  0.06560    7   -24.810     1       0.0467      0.992000   \n",
            "132         0.196  0.98300    8    -8.466     0       0.0818      0.000003   \n",
            "135         0.230  0.04870    5   -27.675     1       0.0412      0.986000   \n",
            "137         0.456  0.45600   11   -16.055     0       0.0535      0.973000   \n",
            "138         0.334  0.00732    4   -30.908     0       0.0355      0.991000   \n",
            "142         0.392  0.05360    4   -23.399     1       0.0571      0.995000   \n",
            "144         0.130  0.94700    8    -5.888     1       0.0950      0.000024   \n",
            "146         0.266  0.98600    8    -8.346     0       0.1660      0.000386   \n",
            "153         0.357  0.98000    6    -6.835     1       0.0790      0.000052   \n",
            "158         0.368  0.00363    1   -36.759     1       0.0350      0.993000   \n",
            "159         0.191  0.05820    8   -25.398     1       0.0578      0.961000   \n",
            "167         0.335  0.02870   10   -27.400     1       0.0410      0.991000   \n",
            "168         0.463  0.15500    5   -17.164     1       0.0440      0.877000   \n",
            "170         0.205  0.12900    7   -18.197     1       0.0595      0.968000   \n",
            "171         0.191  0.03170    9   -35.616     0       0.0407      0.984000   \n",
            "176         0.447  0.44900    2   -10.634     1       0.0376      0.934000   \n",
            "183         0.571  0.99600   10    -4.907     0       0.2150      0.000049   \n",
            "189         0.225  0.98000    6    -5.626     1       0.1430      0.000006   \n",
            "190         0.166  0.05510    9   -19.494     0       0.0520      0.976000   \n",
            "\n",
            "     instrumentalness  liveness   valence    tempo  duration_ms   \n",
            "2               0.897    0.1020  0.164846   75.296       286987  \\\n",
            "10              0.770    0.0766  0.178000  127.693       182427   \n",
            "12              0.918    0.1390  0.234000  102.757       170520   \n",
            "35              0.631    0.4200  0.124000  128.056       125533   \n",
            "37              0.912    0.3760  0.124000  119.215       123880   \n",
            "40              0.924    0.1030  0.124000  137.681       194160   \n",
            "44              0.886    0.2410  0.164846   93.771       257390   \n",
            "45              0.906    0.1050  0.124000   97.346       211947   \n",
            "48              0.897    0.0942  0.124000   71.428       397773   \n",
            "49              0.723    0.0751  0.124000  107.877       186576   \n",
            "54              0.582    0.2070  0.124000  108.017       247564   \n",
            "58              0.894    0.1090  0.124000  101.226       216093   \n",
            "59              0.799    0.0808  0.124000  142.891       237093   \n",
            "62              0.871    0.0831  0.124000  129.466       199133   \n",
            "64              0.831    0.3370  0.124000   94.443       244239   \n",
            "75              0.338    0.0472  0.164846  103.965       250262   \n",
            "76              0.472    0.1050  0.124000  172.059       284400   \n",
            "83              0.903    0.3590  0.124000  105.513       151507   \n",
            "86              0.905    0.0890  0.124000   71.462       545747   \n",
            "87              0.833    0.0377  0.124000   99.046       221960   \n",
            "93              0.361    0.0703  0.124000  128.553       655213   \n",
            "103             0.729    0.2190  0.124000   99.338       375307   \n",
            "106             0.853    0.4530  0.124000  112.834       225867   \n",
            "107             0.907    0.1700  0.124000   91.187       183667   \n",
            "110             0.913    0.1060  0.124000   68.232       241187   \n",
            "113             0.866    0.3620  0.124000   92.628       310000   \n",
            "114             0.587    0.1350  0.124000  144.481       206120   \n",
            "115             0.704    0.6330  0.124000  101.017       228733   \n",
            "116             0.429    0.0839  0.124000  110.071       323347   \n",
            "129             0.969    0.0699  0.124000   65.023       150147   \n",
            "132             0.919    0.0959  0.124000  179.661       183827   \n",
            "135             0.945    0.0679  0.124000  134.839       203656   \n",
            "137             0.353    0.1860  0.124000  144.489       210680   \n",
            "138             0.952    0.0968  0.124000   60.171       241987   \n",
            "142             0.867    0.0808  0.124000   71.286       234467   \n",
            "144             0.368    0.0453  0.124000   60.631       272995   \n",
            "146             0.747    0.4300  0.124000   86.179       245773   \n",
            "153             0.843    0.0768  0.124000   96.969       242760   \n",
            "158             0.922    0.1370  0.124000   69.363       254000   \n",
            "159             0.890    0.0941  0.124000  132.614       357707   \n",
            "167             0.888    0.0874  0.124000   67.446       328000   \n",
            "168             0.261    0.1050  0.124000  122.437       301720   \n",
            "170             0.946    0.1010  0.124000  136.871       169924   \n",
            "171             0.888    0.0974  0.124000  135.974       150733   \n",
            "176             0.961    0.0697  0.124000   92.468       315427   \n",
            "183             0.601    0.1870  0.124000   94.992       211693   \n",
            "189             0.860    0.0653  0.164846  115.077       285907   \n",
            "190             0.635    0.1190  0.124000  176.616       206520   \n",
            "\n",
            "     time_signature  liked  \n",
            "2                 4      0  \n",
            "10                4      0  \n",
            "12                4      0  \n",
            "35                4      0  \n",
            "37                4      0  \n",
            "40                4      0  \n",
            "44                3      0  \n",
            "45                4      0  \n",
            "48                4      0  \n",
            "49                3      0  \n",
            "54                4      0  \n",
            "58                4      0  \n",
            "59                4      0  \n",
            "62                3      0  \n",
            "64                1      0  \n",
            "75                4      0  \n",
            "76                4      0  \n",
            "83                3      0  \n",
            "86                4      0  \n",
            "87                4      0  \n",
            "93                4      0  \n",
            "103               4      0  \n",
            "106               3      0  \n",
            "107               3      0  \n",
            "110               3      0  \n",
            "113               4      0  \n",
            "114               4      0  \n",
            "115               3      0  \n",
            "116               4      0  \n",
            "129               3      0  \n",
            "132               4      0  \n",
            "135               5      0  \n",
            "137               3      0  \n",
            "138               4      0  \n",
            "142               4      0  \n",
            "144               4      0  \n",
            "146               4      0  \n",
            "153               4      0  \n",
            "158               3      0  \n",
            "159               1      0  \n",
            "167               4      0  \n",
            "168               4      0  \n",
            "170               4      0  \n",
            "171               3      0  \n",
            "176               4      0  \n",
            "183               4      0  \n",
            "189               4      0  \n",
            "190               3      0  \n",
            "\n",
            "Outliers in liveness:\n",
            "     danceability  energy  key  loudness  mode  speechiness  acousticness   \n",
            "31          0.668  0.4590    6   -12.072     0     0.118000      0.049900  \\\n",
            "34          0.608  0.4710    0    -8.664     1     0.094500      0.446000   \n",
            "35          0.307  0.0515    4   -28.493     0     0.032400      0.708000   \n",
            "37          0.448  0.9700    1    -4.197     1     0.105000      0.000428   \n",
            "57          0.757  0.4510    2   -11.121     1     0.292000      0.048500   \n",
            "64          0.138  0.9910    8    -5.661     1     0.175000      0.000015   \n",
            "65          0.531  0.8030    8    -3.929     0     0.339000      0.325000   \n",
            "67          0.680  0.8770    5   -10.241     0     0.147858      0.191000   \n",
            "82          0.752  0.9050   11    -7.015     0     0.181000      0.093100   \n",
            "83          0.701  0.3410    1   -12.260     0     0.041800      0.499000   \n",
            "101         0.743  0.6630    2    -8.470     1     0.050700      0.014800   \n",
            "106         0.290  0.9340   10    -4.679     0     0.096200      0.000325   \n",
            "108         0.677  0.6160   10   -13.826     1     0.032000      0.458000   \n",
            "113         0.280  0.1040    2   -19.802     1     0.033600      0.935000   \n",
            "115         0.245  0.9150    1    -8.992     1     0.071800      0.000099   \n",
            "119         0.828  0.7480    1    -8.348     0     0.507000      0.639000   \n",
            "140         0.699  0.6100    9    -6.900     1     0.231000      0.001530   \n",
            "141         0.751  0.7200    6    -4.860     1     0.304000      0.295000   \n",
            "146         0.266  0.9860    8    -8.346     0     0.166000      0.000386   \n",
            "157         0.705  0.8470    6    -2.588     1     0.036100      0.414000   \n",
            "173         0.450  0.9520    2    -5.075     0     0.090000      0.000243   \n",
            "174         0.656  0.9000    5    -9.583     0     0.035400      0.079100   \n",
            "194         0.747  0.6660   11    -7.845     1     0.197000      0.130000   \n",
            "\n",
            "     instrumentalness  liveness  valence    tempo  duration_ms   \n",
            "31           0.000001     0.408    0.124  159.021       186415  \\\n",
            "34           0.000004     0.369    0.124   70.702       165800   \n",
            "35           0.631000     0.420    0.124  128.056       125533   \n",
            "37           0.912000     0.376    0.124  119.215       123880   \n",
            "57           0.000002     0.337    0.124  150.035       167062   \n",
            "64           0.831000     0.337    0.124   94.443       244239   \n",
            "65           0.000000     0.368    0.124   97.510       191133   \n",
            "67           0.000656     0.349    0.124  108.674       185107   \n",
            "82           0.000739     0.355    0.124  150.991       179107   \n",
            "83           0.903000     0.359    0.124  105.513       151507   \n",
            "101          0.000666     0.393    0.124  132.012       100000   \n",
            "106          0.853000     0.453    0.124  112.834       225867   \n",
            "108          0.013200     0.349    0.124  114.223       226333   \n",
            "113          0.866000     0.362    0.124   92.628       310000   \n",
            "115          0.704000     0.633    0.124  101.017       228733   \n",
            "119          0.000000     0.340    0.124  129.433       203048   \n",
            "140          0.000002     0.369    0.124  170.103       204000   \n",
            "141          0.000000     0.337    0.124  140.041       197674   \n",
            "146          0.747000     0.430    0.124   86.179       245773   \n",
            "157          0.000003     0.406    0.124  120.527       228120   \n",
            "173          0.004490     0.554    0.124  140.046       216033   \n",
            "174          0.001420     0.354    0.124  108.698       183667   \n",
            "194          0.000000     0.360    0.124   77.507       177213   \n",
            "\n",
            "     time_signature  liked  \n",
            "31                4      1  \n",
            "34                3      0  \n",
            "35                4      0  \n",
            "37                4      0  \n",
            "57                4      1  \n",
            "64                1      0  \n",
            "65                5      1  \n",
            "67                4      0  \n",
            "82                4      1  \n",
            "83                3      0  \n",
            "101               4      1  \n",
            "106               3      0  \n",
            "108               4      0  \n",
            "113               4      0  \n",
            "115               3      0  \n",
            "119               4      1  \n",
            "140               4      1  \n",
            "141               4      1  \n",
            "146               4      0  \n",
            "157               4      0  \n",
            "173               4      1  \n",
            "174               4      0  \n",
            "194               4      1  \n",
            "\n",
            "Outliers in valence:\n",
            "     danceability  energy  key  loudness  mode  speechiness  acousticness   \n",
            "0           0.803  0.6240    7    -6.764     0     0.047700      0.451000  \\\n",
            "1           0.762  0.7030   10    -7.951     0     0.306000      0.206000   \n",
            "2           0.261  0.0149    1   -27.528     1     0.041900      0.992000   \n",
            "3           0.722  0.7360    3    -6.994     0     0.058500      0.431000   \n",
            "4           0.787  0.5720    1    -7.516     1     0.222000      0.145000   \n",
            "5           0.778  0.6320    8    -6.415     1     0.125000      0.040400   \n",
            "6           0.666  0.5890    0    -8.405     0     0.324000      0.555000   \n",
            "7           0.922  0.7120    7    -6.024     1     0.171000      0.077900   \n",
            "8           0.794  0.6590    7    -7.063     0     0.049800      0.143000   \n",
            "9           0.853  0.6680    3    -6.995     1     0.447000      0.263000   \n",
            "10          0.297  0.9930    9    -7.173     1     0.118000      0.000057   \n",
            "11          0.816  0.4330    1    -9.190     1     0.241000      0.004710   \n",
            "12          0.297  0.9730    1    -4.505     1     0.151000      0.001460   \n",
            "13          0.564  0.7430    6    -5.782     1     0.220000      0.584000   \n",
            "14          0.640  0.9570    8    -2.336     1     0.074100      0.043100   \n",
            "15          0.684  0.6400    5    -9.906     0     0.147858      0.221000   \n",
            "16          0.850  0.8530    8    -5.650     1     0.123000      0.015500   \n",
            "17          0.745  0.4560    8    -9.482     1     0.087400      0.440000   \n",
            "44          0.184  0.9740    8    -6.237     0     0.106000      0.000023   \n",
            "61          0.826  0.5560    5    -8.516     0     0.191000      0.684000   \n",
            "66          0.791  0.5000    1    -9.805     0     0.420000      0.603000   \n",
            "75          0.454  0.9680    6    -6.289     1     0.078700      0.000017   \n",
            "105         0.819  0.8110    6    -7.760     0     0.034900      0.203000   \n",
            "127         0.648  0.4650    6    -9.716     0     0.171000      0.772000   \n",
            "169         0.849  0.8130   11    -5.335     1     0.439000      0.520000   \n",
            "179         0.767  0.6590    7    -4.541     1     0.038700      0.785000   \n",
            "181         0.800  0.7190    7    -6.262     1     0.234000      0.109000   \n",
            "189         0.225  0.9800    6    -5.626     1     0.143000      0.000006   \n",
            "193         0.574  0.7290   10    -5.838     0     0.096500      0.040600   \n",
            "\n",
            "     instrumentalness  liveness   valence    tempo  duration_ms   \n",
            "0            0.000734    0.1000  0.628000   95.968       304524  \\\n",
            "1            0.000000    0.0912  0.519000  151.329       247178   \n",
            "2            0.897000    0.1020  0.164846   75.296       286987   \n",
            "3            0.000001    0.1230  0.582000   89.860       208920   \n",
            "4            0.000000    0.0753  0.647000  155.117       179413   \n",
            "5            0.000000    0.0912  0.827000  140.951       224029   \n",
            "6            0.000000    0.1140  0.776000   74.974       146053   \n",
            "7            0.000040    0.1750  0.904000  104.964       161800   \n",
            "8            0.002240    0.0944  0.308000  112.019       247460   \n",
            "9            0.000000    0.1040  0.745000  157.995       165363   \n",
            "10           0.770000    0.0766  0.178000  127.693       182427   \n",
            "11           0.000000    0.1320  0.676000  147.942       225000   \n",
            "12           0.918000    0.1390  0.234000  102.757       170520   \n",
            "13           0.000000    0.1010  0.191000  168.849       185667   \n",
            "14           0.000000    0.0789  0.692000  134.992       178013   \n",
            "15           0.010200    0.1790  0.777000  106.023       234267   \n",
            "16           0.000000    0.1050  0.734000  142.030       136901   \n",
            "17           0.000000    0.0720  0.164846   94.032       314367   \n",
            "44           0.886000    0.2410  0.164846   93.771       257390   \n",
            "61           0.000000    0.1190  0.164846  150.067       187006   \n",
            "66           0.000000    0.0993  0.164846  130.027       170582   \n",
            "75           0.338000    0.0472  0.164846  103.965       250262   \n",
            "105          0.005580    0.1390  0.164846  106.684       246760   \n",
            "127          0.000002    0.2870  0.164846  103.025       256281   \n",
            "169          0.000000    0.1800  0.164846  147.039       145853   \n",
            "179          0.000000    0.1120  0.164846   90.056       186720   \n",
            "181          0.000000    0.0580  0.164846  143.975       230854   \n",
            "189          0.860000    0.0653  0.164846  115.077       285907   \n",
            "193          0.000004    0.1940  0.164846  110.547       190239   \n",
            "\n",
            "     time_signature  liked  \n",
            "0                 4      0  \n",
            "1                 4      1  \n",
            "2                 4      0  \n",
            "3                 4      1  \n",
            "4                 4      1  \n",
            "5                 4      1  \n",
            "6                 4      1  \n",
            "7                 4      1  \n",
            "8                 4      0  \n",
            "9                 4      1  \n",
            "10                4      0  \n",
            "11                4      1  \n",
            "12                4      0  \n",
            "13                4      1  \n",
            "14                4      1  \n",
            "15                4      0  \n",
            "16                4      1  \n",
            "17                4      0  \n",
            "44                3      0  \n",
            "61                4      1  \n",
            "66                4      1  \n",
            "75                4      0  \n",
            "105               4      0  \n",
            "127               4      0  \n",
            "169               4      1  \n",
            "179               4      1  \n",
            "181               4      1  \n",
            "189               4      0  \n",
            "193               5      1  \n",
            "\n",
            "Outliers in tempo:\n",
            "Empty DataFrame\n",
            "Columns: [danceability, energy, key, loudness, mode, speechiness, acousticness, instrumentalness, liveness, valence, tempo, duration_ms, time_signature, liked]\n",
            "Index: []\n",
            "\n"
          ]
        }
      ],
      "source": [
        "# Iterate through each column and identify outliers using IQR\n",
        "for column in df.columns:\n",
        "    if df[column].dtype == 'float64':  # Only consider numerical columns\n",
        "        Q1 = df[column].quantile(0.25)\n",
        "        Q3 = df[column].quantile(0.75)\n",
        "        IQR = Q3 - Q1\n",
        "        lower_bound = Q1 - 1.5 * IQR\n",
        "        upper_bound = Q3 + 1.5 * IQR\n",
        "        \n",
        "        outliers = df[(df[column] < lower_bound) | (df[column] > upper_bound)]\n",
        "        print(f'Outliers in {column}:\\n{outliers}\\n')"
      ]
    },
    {
      "cell_type": "markdown",
      "metadata": {},
      "source": [
        "- In this case, the diverse energy levels in different types of music are likely a valuable feature rather than a problem."
      ]
    },
    {
      "cell_type": "markdown",
      "metadata": {
        "id": "X6WSA55LYNnR"
      },
      "source": [
        "**EXPLORATORY DATA ANALYSIS**"
      ]
    },
    {
      "cell_type": "code",
      "execution_count": 107,
      "metadata": {
        "colab": {
          "base_uri": "https://localhost:8080/",
          "height": 489
        },
        "id": "g4BBp-5ksp0r",
        "outputId": "d47dbc16-911e-4633-9fd2-5c2e58f164d7"
      },
      "outputs": [
        {
          "data": {
            "text/plain": [
              "[Text(0.5, 1.0, 'ENERGY VS LIKED')]"
            ]
          },
          "execution_count": 107,
          "metadata": {},
          "output_type": "execute_result"
        },
        {
          "data": {
            "image/png": "[encoded data removed]",
            "text/plain": [
              "<Figure size 640x480 with 1 Axes>"
            ]
          },
          "metadata": {},
          "output_type": "display_data"
        }
      ],
      "source": [
        "# ENERGY VS LIKED\n",
        "sns.barplot(x='liked',y='energy',data=df,hue='mode').set(title='ENERGY VS LIKED')"
      ]
    },
    {
      "cell_type": "markdown",
      "metadata": {
        "id": "JENzbo5jcu_d"
      },
      "source": [
        "The songs having high energy is liked by more people than songs having lower energy. Mode 0 has slightly high energy than mode 1 for both the liked and disliked songs"
      ]
    },
    {
      "cell_type": "code",
      "execution_count": 108,
      "metadata": {
        "colab": {
          "base_uri": "https://localhost:8080/",
          "height": 488
        },
        "id": "J_IxzG-2mvpy",
        "outputId": "fb23faee-889b-4000-b67e-13311442356e"
      },
      "outputs": [
        {
          "data": {
            "text/plain": [
              "[Text(0.5, 1.0, 'DURATION_MS VS LIKED')]"
            ]
          },
          "execution_count": 108,
          "metadata": {},
          "output_type": "execute_result"
        },
        {
          "data": {
            "image/png": "[encoded data removed]",
            "text/plain": [
              "<Figure size 640x480 with 1 Axes>"
            ]
          },
          "metadata": {},
          "output_type": "display_data"
        }
      ],
      "source": [
        "#DURATION_MS VS LIKED\n",
        "sns.barplot(x='liked',y='duration_ms',data=df,hue='time_signature').set(title='DURATION_MS VS LIKED')"
      ]
    },
    {
      "cell_type": "markdown",
      "metadata": {
        "id": "AnaDSnKjnE3P"
      },
      "source": [
        "The songs which are liked are having lower time duration for all time_signatures"
      ]
    },
    {
      "cell_type": "code",
      "execution_count": 109,
      "metadata": {
        "colab": {
          "base_uri": "https://localhost:8080/"
        },
        "id": "siWNNgeqNYuM",
        "outputId": "596293b3-9711-4e35-ab1b-14f88a1f4ef3"
      },
      "outputs": [
        {
          "data": {
            "text/plain": [
              "liked\n",
              "1    100\n",
              "0     95\n",
              "Name: count, dtype: int64"
            ]
          },
          "execution_count": 109,
          "metadata": {},
          "output_type": "execute_result"
        }
      ],
      "source": [
        "df['liked'].value_counts()"
      ]
    },
    {
      "cell_type": "code",
      "execution_count": 110,
      "metadata": {
        "colab": {
          "base_uri": "https://localhost:8080/",
          "height": 466
        },
        "id": "Jf6XAqLGrkeG",
        "outputId": "ddf6c404-2406-4bff-ecb4-5acfbca0a536"
      },
      "outputs": [
        {
          "data": {
            "text/plain": [
              "<Axes: xlabel='liked', ylabel='count'>"
            ]
          },
          "execution_count": 110,
          "metadata": {},
          "output_type": "execute_result"
        },
        {
          "data": {
            "image/png": "[encoded data removed]",
            "text/plain": [
              "<Figure size 640x480 with 1 Axes>"
            ]
          },
          "metadata": {},
          "output_type": "display_data"
        }
      ],
      "source": [
        "sns.countplot(x='liked',data=df)"
      ]
    },
    {
      "cell_type": "markdown",
      "metadata": {
        "id": "J5LhrH4ssjNo"
      },
      "source": [
        "**SEPERATE X AND Y**"
      ]
    },
    {
      "cell_type": "code",
      "execution_count": 111,
      "metadata": {
        "colab": {
          "base_uri": "https://localhost:8080/",
          "height": 270
        },
        "id": "uOQKpU7-OZWR",
        "outputId": "bac13e0c-83e9-4ced-ae46-a3b8635d9258"
      },
      "outputs": [
        {
          "data": {
            "text/html": [
              "<div>\n",
              "<style scoped>\n",
              "    .dataframe tbody tr th:only-of-type {\n",
              "        vertical-align: middle;\n",
              "    }\n",
              "\n",
              "    .dataframe tbody tr th {\n",
              "        vertical-align: top;\n",
              "    }\n",
              "\n",
              "    .dataframe thead th {\n",
              "        text-align: right;\n",
              "    }\n",
              "</style>\n",
              "<table border=\"1\" class=\"dataframe\">\n",
              "  <thead>\n",
              "    <tr style=\"text-align: right;\">\n",
              "      <th></th>\n",
              "      <th>danceability</th>\n",
              "      <th>energy</th>\n",
              "      <th>key</th>\n",
              "      <th>loudness</th>\n",
              "      <th>mode</th>\n",
              "      <th>speechiness</th>\n",
              "      <th>acousticness</th>\n",
              "      <th>instrumentalness</th>\n",
              "      <th>liveness</th>\n",
              "      <th>valence</th>\n",
              "      <th>tempo</th>\n",
              "      <th>duration_ms</th>\n",
              "      <th>time_signature</th>\n",
              "    </tr>\n",
              "  </thead>\n",
              "  <tbody>\n",
              "    <tr>\n",
              "      <th>0</th>\n",
              "      <td>0.803</td>\n",
              "      <td>0.6240</td>\n",
              "      <td>7</td>\n",
              "      <td>-6.764</td>\n",
              "      <td>0</td>\n",
              "      <td>0.0477</td>\n",
              "      <td>0.451</td>\n",
              "      <td>0.000734</td>\n",
              "      <td>0.1000</td>\n",
              "      <td>0.628000</td>\n",
              "      <td>95.968</td>\n",
              "      <td>304524</td>\n",
              "      <td>4</td>\n",
              "    </tr>\n",
              "    <tr>\n",
              "      <th>1</th>\n",
              "      <td>0.762</td>\n",
              "      <td>0.7030</td>\n",
              "      <td>10</td>\n",
              "      <td>-7.951</td>\n",
              "      <td>0</td>\n",
              "      <td>0.3060</td>\n",
              "      <td>0.206</td>\n",
              "      <td>0.000000</td>\n",
              "      <td>0.0912</td>\n",
              "      <td>0.519000</td>\n",
              "      <td>151.329</td>\n",
              "      <td>247178</td>\n",
              "      <td>4</td>\n",
              "    </tr>\n",
              "    <tr>\n",
              "      <th>2</th>\n",
              "      <td>0.261</td>\n",
              "      <td>0.0149</td>\n",
              "      <td>1</td>\n",
              "      <td>-27.528</td>\n",
              "      <td>1</td>\n",
              "      <td>0.0419</td>\n",
              "      <td>0.992</td>\n",
              "      <td>0.897000</td>\n",
              "      <td>0.1020</td>\n",
              "      <td>0.164846</td>\n",
              "      <td>75.296</td>\n",
              "      <td>286987</td>\n",
              "      <td>4</td>\n",
              "    </tr>\n",
              "    <tr>\n",
              "      <th>3</th>\n",
              "      <td>0.722</td>\n",
              "      <td>0.7360</td>\n",
              "      <td>3</td>\n",
              "      <td>-6.994</td>\n",
              "      <td>0</td>\n",
              "      <td>0.0585</td>\n",
              "      <td>0.431</td>\n",
              "      <td>0.000001</td>\n",
              "      <td>0.1230</td>\n",
              "      <td>0.582000</td>\n",
              "      <td>89.860</td>\n",
              "      <td>208920</td>\n",
              "      <td>4</td>\n",
              "    </tr>\n",
              "    <tr>\n",
              "      <th>4</th>\n",
              "      <td>0.787</td>\n",
              "      <td>0.5720</td>\n",
              "      <td>1</td>\n",
              "      <td>-7.516</td>\n",
              "      <td>1</td>\n",
              "      <td>0.2220</td>\n",
              "      <td>0.145</td>\n",
              "      <td>0.000000</td>\n",
              "      <td>0.0753</td>\n",
              "      <td>0.647000</td>\n",
              "      <td>155.117</td>\n",
              "      <td>179413</td>\n",
              "      <td>4</td>\n",
              "    </tr>\n",
              "  </tbody>\n",
              "</table>\n",
              "</div>"
            ],
            "text/plain": [
              "   danceability  energy  key  loudness  mode  speechiness  acousticness   \n",
              "0         0.803  0.6240    7    -6.764     0       0.0477         0.451  \\\n",
              "1         0.762  0.7030   10    -7.951     0       0.3060         0.206   \n",
              "2         0.261  0.0149    1   -27.528     1       0.0419         0.992   \n",
              "3         0.722  0.7360    3    -6.994     0       0.0585         0.431   \n",
              "4         0.787  0.5720    1    -7.516     1       0.2220         0.145   \n",
              "\n",
              "   instrumentalness  liveness   valence    tempo  duration_ms  time_signature  \n",
              "0          0.000734    0.1000  0.628000   95.968       304524               4  \n",
              "1          0.000000    0.0912  0.519000  151.329       247178               4  \n",
              "2          0.897000    0.1020  0.164846   75.296       286987               4  \n",
              "3          0.000001    0.1230  0.582000   89.860       208920               4  \n",
              "4          0.000000    0.0753  0.647000  155.117       179413               4  "
            ]
          },
          "execution_count": 111,
          "metadata": {},
          "output_type": "execute_result"
        }
      ],
      "source": [
        "#Seperating input and output variables\n",
        "X=df.iloc[:,:-1]\n",
        "X.head()"
      ]
    },
    {
      "cell_type": "code",
      "execution_count": 112,
      "metadata": {
        "colab": {
          "base_uri": "https://localhost:8080/"
        },
        "id": "l9WQvx9rOjbw",
        "outputId": "fab9ffbd-aa68-4ae6-b859-240bac4338b1"
      },
      "outputs": [
        {
          "data": {
            "text/plain": [
              "0      0\n",
              "1      1\n",
              "2      0\n",
              "3      1\n",
              "4      1\n",
              "      ..\n",
              "190    0\n",
              "191    0\n",
              "192    0\n",
              "193    1\n",
              "194    1\n",
              "Name: liked, Length: 195, dtype: int64"
            ]
          },
          "execution_count": 112,
          "metadata": {},
          "output_type": "execute_result"
        }
      ],
      "source": [
        "y=df.iloc[:,-1]\n",
        "y"
      ]
    },
    {
      "cell_type": "markdown",
      "metadata": {
        "id": "-kYuczZdsqVc"
      },
      "source": [
        "**SCALING USING MINMAXSCALER**"
      ]
    },
    {
      "cell_type": "code",
      "execution_count": 113,
      "metadata": {
        "colab": {
          "base_uri": "https://localhost:8080/"
        },
        "id": "PgNTL_pUNg-e",
        "outputId": "12f844d4-f7bc-4157-aa74-2811c0cc3c72"
      },
      "outputs": [
        {
          "data": {
            "text/plain": [
              "array([[0.8247549 , 0.62560386, 0.63636364, ..., 0.29864431, 0.39328212,\n",
              "        0.75      ],\n",
              "       [0.7745098 , 0.70511272, 0.90909091, ..., 0.76050557, 0.29406931,\n",
              "        0.75      ],\n",
              "       [0.16053922, 0.01258052, 0.09090909, ..., 0.12618362, 0.36294182,\n",
              "        0.75      ],\n",
              "       ...,\n",
              "       [0.45220588, 0.35084541, 0.81818182, ..., 0.25439453, 0.27463885,\n",
              "        0.75      ],\n",
              "       [0.54411765, 0.73128019, 0.90909091, ..., 0.42027281, 0.19556063,\n",
              "        1.        ],\n",
              "       [0.75612745, 0.6678744 , 1.        , ..., 0.14462937, 0.17302469,\n",
              "        0.75      ]])"
            ]
          },
          "execution_count": 113,
          "metadata": {},
          "output_type": "execute_result"
        }
      ],
      "source": [
        "mm=MinMaxScaler()\n",
        "X_sc=mm.fit_transform(X)\n",
        "X_sc"
      ]
    },
    {
      "cell_type": "markdown",
      "metadata": {
        "id": "XcGpVfjKs0Tv"
      },
      "source": [
        "**TRAIN & TEST SPLIT**"
      ]
    },
    {
      "cell_type": "code",
      "execution_count": 114,
      "metadata": {
        "id": "ruHIQWBcO4CF"
      },
      "outputs": [],
      "source": [
        "X_train,X_test,y_train,y_test=train_test_split(X_sc,y,test_size=0.3,random_state=1)"
      ]
    },
    {
      "cell_type": "markdown",
      "metadata": {
        "id": "9ZJsrAA1s68o"
      },
      "source": [
        "**MODEL BUILDING AND EVALUATION**"
      ]
    },
    {
      "cell_type": "code",
      "execution_count": 115,
      "metadata": {
        "colab": {
          "base_uri": "https://localhost:8080/"
        },
        "id": "0ZGmYoNqOtYe",
        "outputId": "65403bf3-ad9b-4f80-e9b8-3a5f756ed19d"
      },
      "outputs": [
        {
          "name": "stdout",
          "output_type": "stream",
          "text": [
            "              precision    recall  f1-score   support\n",
            "\n",
            "           0       0.89      0.89      0.89        27\n",
            "           1       0.91      0.91      0.91        32\n",
            "\n",
            "    accuracy                           0.90        59\n",
            "   macro avg       0.90      0.90      0.90        59\n",
            "weighted avg       0.90      0.90      0.90        59\n",
            "\n"
          ]
        }
      ],
      "source": [
        "#KNEIGHBORS CLASSIFICATION\n",
        "knn=KNeighborsClassifier(n_neighbors=7)\n",
        "knn.fit(X_train,y_train)\n",
        "y_pred=knn.predict(X_test)\n",
        "print(classification_report(y_test,y_pred))"
      ]
    },
    {
      "cell_type": "markdown",
      "metadata": {},
      "source": [
        "**Precision:** The precision values for classes 0 (disliked) and 1 (liked) are shown. For class 0, the model's positive predictions are accurate 89% of the time. For class 1, its positive predictions are correct 91% of the time.\n",
        "\n",
        "**Recall:** The recall values for both classes are displayed. Class 0's recall of 0.89 indicates that the model correctly captures 89% of actual \"disliked\" songs. Class 1's recall of 0.91 shows that it captures 91% of actual \"liked\" songs.\n",
        "\n",
        "**F1-Score:** The F1-score values are given. These scores consider both precision and recall. For class 0, the F1-score is 0.89, and for class 1, it's 0.91. These values indicate a balanced performance between identifying positive instances and correctly capturing them.\n",
        "\n",
        "**Accuracy:** The overall accuracy of the model's predictions is displayed. The accuracy score of 0.90 means that the model is correct for approximately 90% of instances in the test dataset.\n",
        "\n",
        "**Macro Avg:** The macro average of precision, recall, and F1-score is provided. This average treats each class equally.\n",
        "\n",
        "**Weighted Avg:** The weighted average of precision, recall, and F1-score is given, considering the support (number of instances) for each class.\n",
        "\n",
        "In conclusion, the output provides a comprehensive view of the model's performance, covering its ability to identify and classify instances for each class, as well as its overall accuracy"
      ]
    },
    {
      "cell_type": "code",
      "execution_count": 116,
      "metadata": {
        "colab": {
          "base_uri": "https://localhost:8080/"
        },
        "id": "_o-ySbszPj5W",
        "outputId": "90fb142c-559c-4416-c2ab-78c6d2bda2ec"
      },
      "outputs": [
        {
          "name": "stdout",
          "output_type": "stream",
          "text": [
            "              precision    recall  f1-score   support\n",
            "\n",
            "           0       0.92      0.81      0.86        27\n",
            "           1       0.86      0.94      0.90        32\n",
            "\n",
            "    accuracy                           0.88        59\n",
            "   macro avg       0.89      0.88      0.88        59\n",
            "weighted avg       0.88      0.88      0.88        59\n",
            "\n"
          ]
        }
      ],
      "source": [
        "#SUPPORT VECTOR CLASSIFICATION\n",
        "sv=SVC(kernel='rbf')\n",
        "sv.fit(X_train,y_train)\n",
        "y_pred1=sv.predict(X_test)\n",
        "print(classification_report(y_test,y_pred1))"
      ]
    },
    {
      "cell_type": "code",
      "execution_count": 117,
      "metadata": {
        "colab": {
          "base_uri": "https://localhost:8080/"
        },
        "id": "eD0O-RfhD19c",
        "outputId": "15f55b6b-3903-4c66-8295-6b0e69217fc7"
      },
      "outputs": [
        {
          "name": "stdout",
          "output_type": "stream",
          "text": [
            "              precision    recall  f1-score   support\n",
            "\n",
            "           0       1.00      0.81      0.90        27\n",
            "           1       0.86      1.00      0.93        32\n",
            "\n",
            "    accuracy                           0.92        59\n",
            "   macro avg       0.93      0.91      0.91        59\n",
            "weighted avg       0.93      0.92      0.91        59\n",
            "\n"
          ]
        }
      ],
      "source": [
        "#NAIVE BAYES CLASSIFICATION\n",
        "nb=GaussianNB()\n",
        "nb.fit(X_train,y_train)\n",
        "y_pred2=nb.predict(X_test)\n",
        "print(classification_report(y_test,y_pred2))"
      ]
    },
    {
      "cell_type": "code",
      "execution_count": 118,
      "metadata": {
        "colab": {
          "base_uri": "https://localhost:8080/"
        },
        "id": "5raIhbghEaNe",
        "outputId": "754f189e-9095-4f8c-b5fb-b12c89d461d0"
      },
      "outputs": [
        {
          "name": "stdout",
          "output_type": "stream",
          "text": [
            "              precision    recall  f1-score   support\n",
            "\n",
            "           0       0.93      0.93      0.93        27\n",
            "           1       0.94      0.94      0.94        32\n",
            "\n",
            "    accuracy                           0.93        59\n",
            "   macro avg       0.93      0.93      0.93        59\n",
            "weighted avg       0.93      0.93      0.93        59\n",
            "\n"
          ]
        }
      ],
      "source": [
        "#DECISION TREE CLASSIFICATION\n",
        "dt=DecisionTreeClassifier(criterion='gini',random_state=3,)\n",
        "dt.fit(X_train,y_train)\n",
        "y_pred3=dt.predict(X_test)\n",
        "print(classification_report(y_test,y_pred3))"
      ]
    },
    {
      "cell_type": "code",
      "execution_count": 119,
      "metadata": {
        "colab": {
          "base_uri": "https://localhost:8080/"
        },
        "id": "ogEdOy5oFmwl",
        "outputId": "3779edb1-c82d-4709-f42b-941f9f655bcb"
      },
      "outputs": [
        {
          "name": "stdout",
          "output_type": "stream",
          "text": [
            "              precision    recall  f1-score   support\n",
            "\n",
            "           0       0.93      0.93      0.93        27\n",
            "           1       0.94      0.94      0.94        32\n",
            "\n",
            "    accuracy                           0.93        59\n",
            "   macro avg       0.93      0.93      0.93        59\n",
            "weighted avg       0.93      0.93      0.93        59\n",
            "\n"
          ]
        }
      ],
      "source": [
        "#RANDOM FOREST CLASSIFICATION\n",
        "rf=RandomForestClassifier(n_estimators=100,random_state=1)\n",
        "rf.fit(X_train,y_train)\n",
        "y_pred4=dt.predict(X_test)\n",
        "print(classification_report(y_test,y_pred4))"
      ]
    },
    {
      "cell_type": "code",
      "execution_count": 120,
      "metadata": {
        "colab": {
          "base_uri": "https://localhost:8080/"
        },
        "id": "nKeu_wWOGSF1",
        "outputId": "30e0e6d9-a988-43ce-d4ce-0e9829b7d11f"
      },
      "outputs": [
        {
          "name": "stdout",
          "output_type": "stream",
          "text": [
            "              precision    recall  f1-score   support\n",
            "\n",
            "           0       0.89      0.89      0.89        27\n",
            "           1       0.91      0.91      0.91        32\n",
            "\n",
            "    accuracy                           0.90        59\n",
            "   macro avg       0.90      0.90      0.90        59\n",
            "weighted avg       0.90      0.90      0.90        59\n",
            "\n"
          ]
        }
      ],
      "source": [
        "#ADABOOST CLASSIFICATION\n",
        "ab=AdaBoostClassifier(random_state=1)\n",
        "ab.fit(X_train,y_train)\n",
        "y_pred5=ab.predict(X_test)\n",
        "print(classification_report(y_test,y_pred5))"
      ]
    },
    {
      "cell_type": "code",
      "execution_count": 121,
      "metadata": {
        "colab": {
          "base_uri": "https://localhost:8080/"
        },
        "id": "Nf0Vlu6DqyXm",
        "outputId": "6521a1c6-0e00-4bf1-d60c-a6094dd486d5"
      },
      "outputs": [
        {
          "name": "stdout",
          "output_type": "stream",
          "text": [
            "              precision    recall  f1-score   support\n",
            "\n",
            "           0       0.96      0.89      0.92        27\n",
            "           1       0.91      0.97      0.94        32\n",
            "\n",
            "    accuracy                           0.93        59\n",
            "   macro avg       0.94      0.93      0.93        59\n",
            "weighted avg       0.93      0.93      0.93        59\n",
            "\n"
          ]
        }
      ],
      "source": [
        "#XGBOOST CLASSIFICATION\n",
        "xg=XGBClassifier(n_estimators=100)\n",
        "xg.fit(X_train,y_train)\n",
        "y_pred6=xg.predict(X_test)\n",
        "print(classification_report(y_test,y_pred6))"
      ]
    },
    {
      "cell_type": "markdown",
      "metadata": {
        "id": "1HdAG6scDi_p"
      },
      "source": [
        "**OVERSAMPLING**"
      ]
    },
    {
      "cell_type": "code",
      "execution_count": 122,
      "metadata": {
        "colab": {
          "base_uri": "https://localhost:8080/"
        },
        "id": "2PN6YAqI_1UZ",
        "outputId": "70cba7c0-32f3-42c9-9ed6-0efafd018681"
      },
      "outputs": [
        {
          "data": {
            "text/plain": [
              "liked\n",
              "0    100\n",
              "1    100\n",
              "Name: count, dtype: int64"
            ]
          },
          "execution_count": 122,
          "metadata": {},
          "output_type": "execute_result"
        }
      ],
      "source": [
        "os=SMOTE(random_state=1)\n",
        "X_os,y_os=os.fit_resample(X,y)\n",
        "y_os.value_counts()"
      ]
    },
    {
      "cell_type": "code",
      "execution_count": 123,
      "metadata": {
        "colab": {
          "base_uri": "https://localhost:8080/"
        },
        "id": "yuOLaMKABHLe",
        "outputId": "be353ae5-99f6-4291-a815-7dee2c4eb3d7"
      },
      "outputs": [
        {
          "data": {
            "text/plain": [
              "array([[0.8247549 , 0.62560386, 0.63636364, ..., 0.29864431, 0.39328212,\n",
              "        0.75      ],\n",
              "       [0.7745098 , 0.70511272, 0.90909091, ..., 0.76050557, 0.29406931,\n",
              "        0.75      ],\n",
              "       [0.16053922, 0.01258052, 0.09090909, ..., 0.12618362, 0.36294182,\n",
              "        0.75      ],\n",
              "       ...,\n",
              "       [0.7808555 , 0.7271072 , 0.45454545, ..., 0.39615186, 0.23507206,\n",
              "        0.75      ],\n",
              "       [0.71791091, 0.77737001, 0.63636364, ..., 0.3565965 , 0.29132714,\n",
              "        0.75      ],\n",
              "       [0.28375492, 0.04664473, 0.09090909, ..., 0.0411634 , 0.28424076,\n",
              "        0.5       ]])"
            ]
          },
          "execution_count": 123,
          "metadata": {},
          "output_type": "execute_result"
        }
      ],
      "source": [
        "#SCALING AFTER OVERSAMPLING\n",
        "mm1=MinMaxScaler()\n",
        "X_sc1=mm1.fit_transform(X_os)\n",
        "X_sc1"
      ]
    },
    {
      "cell_type": "code",
      "execution_count": 124,
      "metadata": {
        "id": "eECDcJT8D5ev"
      },
      "outputs": [],
      "source": [
        "#TRAIN TEST SPLIT AFTER OVERSAMPLING\n",
        "X_train,X_test,y_train,y_test=train_test_split(X_sc1,y_os,test_size=0.3,random_state=1)"
      ]
    },
    {
      "cell_type": "code",
      "execution_count": 125,
      "metadata": {
        "colab": {
          "base_uri": "https://localhost:8080/"
        },
        "id": "ilPPV27XEdqh",
        "outputId": "476135c0-a541-4085-a52c-e74ac2403d1c"
      },
      "outputs": [
        {
          "name": "stdout",
          "output_type": "stream",
          "text": [
            "              precision    recall  f1-score   support\n",
            "\n",
            "           0       0.84      0.93      0.88        28\n",
            "           1       0.93      0.84      0.89        32\n",
            "\n",
            "    accuracy                           0.88        60\n",
            "   macro avg       0.88      0.89      0.88        60\n",
            "weighted avg       0.89      0.88      0.88        60\n",
            "\n"
          ]
        }
      ],
      "source": [
        "#KNEIGHBORS CLASSIFICATION AFTER OVER SAMPLING\n",
        "knn1=KNeighborsClassifier(n_neighbors=7)\n",
        "knn1.fit(X_train,y_train)\n",
        "y_pred7=knn1.predict(X_test)\n",
        "print(classification_report(y_test,y_pred7))"
      ]
    },
    {
      "cell_type": "code",
      "execution_count": 126,
      "metadata": {
        "colab": {
          "base_uri": "https://localhost:8080/"
        },
        "id": "an-F6OnX9Xry",
        "outputId": "e648a93e-436c-4716-8c48-f93064ec1644"
      },
      "outputs": [
        {
          "data": {
            "text/plain": [
              "{'algorithm': 'auto', 'n_neighbors': 7, 'weights': 'uniform'}"
            ]
          },
          "execution_count": 126,
          "metadata": {},
          "output_type": "execute_result"
        }
      ],
      "source": [
        "#HYPER PARAMETER TUNING OF KNEIGHBORS CLASSIFIER\n",
        "knn2=KNeighborsClassifier()\n",
        "params_knn={'n_neighbors':[5,7,9,11,13,15],'weights':['uniform','distance'],'algorithm':['auto','ball_tree','kd_tree','brute']}\n",
        "clf1=GridSearchCV(knn2,params_knn,cv=5,scoring='accuracy')\n",
        "clf1.fit(X_train,y_train)\n",
        "clf1.best_params_"
      ]
    },
    {
      "cell_type": "code",
      "execution_count": 127,
      "metadata": {
        "colab": {
          "base_uri": "https://localhost:8080/"
        },
        "id": "Uoh_8rO6_alz",
        "outputId": "df9eb9c3-bec4-45e8-d385-c224a6b1d621"
      },
      "outputs": [
        {
          "name": "stdout",
          "output_type": "stream",
          "text": [
            "              precision    recall  f1-score   support\n",
            "\n",
            "           0       0.84      0.93      0.88        28\n",
            "           1       0.93      0.84      0.89        32\n",
            "\n",
            "    accuracy                           0.88        60\n",
            "   macro avg       0.88      0.89      0.88        60\n",
            "weighted avg       0.89      0.88      0.88        60\n",
            "\n"
          ]
        }
      ],
      "source": [
        "#KNEIGHBORS CLASSIFICATION AFTER HYPER PARAMETER TUNING\n",
        "knn3=KNeighborsClassifier(n_neighbors=7,algorithm='auto',weights='uniform')\n",
        "knn3.fit(X_train,y_train)\n",
        "y_pred_knn=knn3.predict(X_test)\n",
        "print(classification_report(y_test,y_pred_knn))"
      ]
    },
    {
      "cell_type": "code",
      "execution_count": 128,
      "metadata": {
        "colab": {
          "base_uri": "https://localhost:8080/"
        },
        "id": "T5Kj61m5F-9t",
        "outputId": "18731f96-3c30-4862-e07a-8ef4313ac912"
      },
      "outputs": [
        {
          "name": "stdout",
          "output_type": "stream",
          "text": [
            "              precision    recall  f1-score   support\n",
            "\n",
            "           0       0.96      0.93      0.95        28\n",
            "           1       0.94      0.97      0.95        32\n",
            "\n",
            "    accuracy                           0.95        60\n",
            "   macro avg       0.95      0.95      0.95        60\n",
            "weighted avg       0.95      0.95      0.95        60\n",
            "\n"
          ]
        }
      ],
      "source": [
        "#SUPPORT VECTOR CLASSIFICATION AFTER OVER SAMPLING\n",
        "sv1=SVC(kernel='poly')\n",
        "sv1.fit(X_train,y_train)\n",
        "y_pred8=sv1.predict(X_test)\n",
        "print(classification_report(y_test,y_pred8))"
      ]
    },
    {
      "cell_type": "code",
      "execution_count": 129,
      "metadata": {
        "colab": {
          "base_uri": "https://localhost:8080/"
        },
        "id": "Ed9JJuH7S-Mh",
        "outputId": "61e4ccae-42d0-4b4a-e5e5-83b970397ca1"
      },
      "outputs": [
        {
          "data": {
            "text/plain": [
              "{'gamma': 'scale', 'kernel': 'poly'}"
            ]
          },
          "execution_count": 129,
          "metadata": {},
          "output_type": "execute_result"
        }
      ],
      "source": [
        "#HYPER PARAMETER TUNING OF SUPPORT VECTOR CLASSIFIER\n",
        "sv2=SVC()\n",
        "params_sv={'kernel':['linear','poly','rbf','sigmoid'],'gamma':['scale','auto']}\n",
        "clf2=GridSearchCV(sv2,params_sv,cv=5,scoring='accuracy')\n",
        "clf2.fit(X_train,y_train)\n",
        "clf2.best_params_"
      ]
    },
    {
      "cell_type": "code",
      "execution_count": 130,
      "metadata": {
        "colab": {
          "base_uri": "https://localhost:8080/"
        },
        "id": "oXfo2RbCX-Qh",
        "outputId": "f14dc52f-b65a-4432-b4d2-0824b52924b0"
      },
      "outputs": [
        {
          "name": "stdout",
          "output_type": "stream",
          "text": [
            "              precision    recall  f1-score   support\n",
            "\n",
            "           0       0.96      0.93      0.95        28\n",
            "           1       0.94      0.97      0.95        32\n",
            "\n",
            "    accuracy                           0.95        60\n",
            "   macro avg       0.95      0.95      0.95        60\n",
            "weighted avg       0.95      0.95      0.95        60\n",
            "\n"
          ]
        }
      ],
      "source": [
        "#SUPPORT VECTOR CLASSIFICATION AFTER HYPER PARAMETER TUNING\n",
        "sv3=SVC(kernel='poly',gamma='scale')\n",
        "sv3.fit(X_train,y_train)\n",
        "y_pred_sv=sv3.predict(X_test)\n",
        "print(classification_report(y_test,y_pred_sv))"
      ]
    },
    {
      "cell_type": "code",
      "execution_count": 131,
      "metadata": {
        "colab": {
          "base_uri": "https://localhost:8080/"
        },
        "id": "hht_9lhTJGhn",
        "outputId": "28c55dff-b642-4f10-cf56-85ebc0124a65"
      },
      "outputs": [
        {
          "name": "stdout",
          "output_type": "stream",
          "text": [
            "              precision    recall  f1-score   support\n",
            "\n",
            "           0       1.00      0.79      0.88        28\n",
            "           1       0.84      1.00      0.91        32\n",
            "\n",
            "    accuracy                           0.90        60\n",
            "   macro avg       0.92      0.89      0.90        60\n",
            "weighted avg       0.92      0.90      0.90        60\n",
            "\n"
          ]
        }
      ],
      "source": [
        "#NAIVE BAYES CLASSIFICATION AFTER OVER SAMPLING\n",
        "nb1=GaussianNB()\n",
        "nb1.fit(X_train,y_train)\n",
        "y_pred9=nb1.predict(X_test)\n",
        "print(classification_report(y_test,y_pred9))\n"
      ]
    },
    {
      "cell_type": "code",
      "execution_count": 132,
      "metadata": {
        "colab": {
          "base_uri": "https://localhost:8080/"
        },
        "id": "SCvNYv6kJ5gA",
        "outputId": "fa8d08d2-0f2c-4980-d826-033fa1e1b36d"
      },
      "outputs": [
        {
          "name": "stdout",
          "output_type": "stream",
          "text": [
            "              precision    recall  f1-score   support\n",
            "\n",
            "           0       0.87      0.93      0.90        28\n",
            "           1       0.93      0.88      0.90        32\n",
            "\n",
            "    accuracy                           0.90        60\n",
            "   macro avg       0.90      0.90      0.90        60\n",
            "weighted avg       0.90      0.90      0.90        60\n",
            "\n"
          ]
        }
      ],
      "source": [
        "#DECISION TREE CLASSIFICATION AFTER OVER SAMPLING\n",
        "dt1=DecisionTreeClassifier(criterion='gini',random_state=1)\n",
        "dt1.fit(X_train,y_train)\n",
        "y_pred10=dt1.predict(X_test)\n",
        "print(classification_report(y_test,y_pred10))"
      ]
    },
    {
      "cell_type": "code",
      "execution_count": 133,
      "metadata": {
        "colab": {
          "base_uri": "https://localhost:8080/"
        },
        "id": "9Qv17ndzAjEb",
        "outputId": "301bf8aa-c495-4e9e-aa1d-2c8fd0c46e78"
      },
      "outputs": [
        {
          "data": {
            "text/plain": [
              "{'criterion': 'entropy', 'splitter': 'best'}"
            ]
          },
          "execution_count": 133,
          "metadata": {},
          "output_type": "execute_result"
        }
      ],
      "source": [
        "#HYPER PARAMETER TUNING OF DECISON TREE CLASSIFIER\n",
        "dt2=DecisionTreeClassifier()\n",
        "params_dt={'criterion':['gini','entropy'],'splitter':['best','random']}\n",
        "clf3=GridSearchCV(dt2,params_dt,cv=5,scoring='accuracy')\n",
        "clf3.fit(X_train,y_train)\n",
        "clf3.best_params_"
      ]
    },
    {
      "cell_type": "code",
      "execution_count": 134,
      "metadata": {
        "colab": {
          "base_uri": "https://localhost:8080/"
        },
        "id": "B_8dXvOxB6jy",
        "outputId": "9c35a741-6257-40b8-b7e5-c9b31a413a26"
      },
      "outputs": [
        {
          "name": "stdout",
          "output_type": "stream",
          "text": [
            "              precision    recall  f1-score   support\n",
            "\n",
            "           0       0.93      0.96      0.95        28\n",
            "           1       0.97      0.94      0.95        32\n",
            "\n",
            "    accuracy                           0.95        60\n",
            "   macro avg       0.95      0.95      0.95        60\n",
            "weighted avg       0.95      0.95      0.95        60\n",
            "\n"
          ]
        }
      ],
      "source": [
        "#DECISION TREE CLASSIFICATION AFTER HYPER PARAMETER TUNING\n",
        "dt3=DecisionTreeClassifier(criterion='entropy',splitter='best')\n",
        "dt3.fit(X_train,y_train)\n",
        "y_pred_dt=dt3.predict(X_test)\n",
        "print(classification_report(y_test,y_pred_dt))"
      ]
    },
    {
      "cell_type": "code",
      "execution_count": 135,
      "metadata": {
        "colab": {
          "base_uri": "https://localhost:8080/"
        },
        "id": "6rWmTx__K_1B",
        "outputId": "26b99ca5-8300-476c-f023-60f8d974de0c"
      },
      "outputs": [
        {
          "name": "stdout",
          "output_type": "stream",
          "text": [
            "              precision    recall  f1-score   support\n",
            "\n",
            "           0       1.00      0.96      0.98        28\n",
            "           1       0.97      1.00      0.98        32\n",
            "\n",
            "    accuracy                           0.98        60\n",
            "   macro avg       0.98      0.98      0.98        60\n",
            "weighted avg       0.98      0.98      0.98        60\n",
            "\n"
          ]
        }
      ],
      "source": [
        "#RANDOM FOREST CLASSIFICATION AFTER OVER SAMPLING\n",
        "rf1=RandomForestClassifier(n_estimators=100,random_state=1)\n",
        "rf1.fit(X_train,y_train)\n",
        "y_pred11=rf1.predict(X_test)\n",
        "print(classification_report(y_test,y_pred11))"
      ]
    },
    {
      "cell_type": "code",
      "execution_count": 136,
      "metadata": {
        "colab": {
          "base_uri": "https://localhost:8080/"
        },
        "id": "dBlluL8XbJyj",
        "outputId": "4f562dbc-8714-4b49-a663-bc4cfe993e86"
      },
      "outputs": [
        {
          "data": {
            "text/plain": [
              "{'criterion': 'entropy', 'n_estimators': 75}"
            ]
          },
          "execution_count": 136,
          "metadata": {},
          "output_type": "execute_result"
        }
      ],
      "source": [
        "#HYPER PARAMETER TUNING OF RANDOMFOREST CLASSIFIER\n",
        "rf2=RandomForestClassifier()\n",
        "params_rf={'n_estimators':[50,75,100,125,150],'criterion':['entropy','gini']}\n",
        "clf4=GridSearchCV(rf2,params_rf,cv=5,scoring='accuracy')\n",
        "clf4.fit(X_train,y_train)\n",
        "clf4.best_params_"
      ]
    },
    {
      "cell_type": "code",
      "execution_count": 137,
      "metadata": {
        "colab": {
          "base_uri": "https://localhost:8080/"
        },
        "id": "a3L6EKb_d8ql",
        "outputId": "07600417-2b09-4805-ee81-e42f485da073"
      },
      "outputs": [
        {
          "name": "stdout",
          "output_type": "stream",
          "text": [
            "              precision    recall  f1-score   support\n",
            "\n",
            "           0       1.00      0.96      0.98        28\n",
            "           1       0.97      1.00      0.98        32\n",
            "\n",
            "    accuracy                           0.98        60\n",
            "   macro avg       0.98      0.98      0.98        60\n",
            "weighted avg       0.98      0.98      0.98        60\n",
            "\n"
          ]
        }
      ],
      "source": [
        "#RANDOM FOREST CLASSIFICATION AFTER HYPER PARAMETER TUNING\n",
        "rf3=RandomForestClassifier(n_estimators=100,criterion='entropy',random_state=1)\n",
        "rf3.fit(X_train,y_train)\n",
        "y_pred_rf=rf3.predict(X_test)\n",
        "print(classification_report(y_test,y_pred_rf))"
      ]
    },
    {
      "cell_type": "code",
      "execution_count": 138,
      "metadata": {
        "colab": {
          "base_uri": "https://localhost:8080/"
        },
        "id": "xEpFOD4JLrWI",
        "outputId": "c8df193c-c4b5-4e77-f13b-99af11649cef"
      },
      "outputs": [
        {
          "name": "stdout",
          "output_type": "stream",
          "text": [
            "The Song is Disliked\n"
          ]
        }
      ],
      "source": [
        "#PREDICTION USING RANDOM FOREST CLASSIFICATION\n",
        "y_new1=rf3.predict(mm1.transform([[0.803,0.6240,7,-6.764,0,0.0477,0.451,0.000734,0.1000,0.628000,95.968,304524,4]]))\n",
        "if y_new1==1:\n",
        "  print('The Song is Liked')\n",
        "else:\n",
        "  print('The Song is Disliked')"
      ]
    },
    {
      "cell_type": "code",
      "execution_count": 139,
      "metadata": {
        "colab": {
          "base_uri": "https://localhost:8080/"
        },
        "id": "hz5ljZM6mVCN",
        "outputId": "cc44618a-577c-4dd2-b7c7-73294d18ed53"
      },
      "outputs": [
        {
          "name": "stdout",
          "output_type": "stream",
          "text": [
            "The Song is Liked\n"
          ]
        }
      ],
      "source": [
        "y_new2=rf3.predict(mm1.transform([[0.762,0.7030,10,-7.951,0,0.3060,0.2060,0.000000,0.0912,0.519,151.329,247178,4]]))\n",
        "if y_new2==1:\n",
        "  print('The Song is Liked')\n",
        "else:\n",
        "  print('The Song is Disliked')"
      ]
    },
    {
      "cell_type": "code",
      "execution_count": 174,
      "metadata": {
        "colab": {
          "base_uri": "https://localhost:8080/",
          "height": 466
        },
        "id": "CGshRgYin5V6",
        "outputId": "48f57664-8861-48c1-f7eb-749d9f008e07"
      },
      "outputs": [
        {
          "name": "stdout",
          "output_type": "stream",
          "text": [
            "<sklearn.metrics._plot.confusion_matrix.ConfusionMatrixDisplay object at 0x7fe4f29e1ac0>\n"
          ]
        },
        {
          "data": {
            "image/png": "[encoded data removed]",
            "text/plain": [
              "<Figure size 640x480 with 2 Axes>"
            ]
          },
          "metadata": {},
          "output_type": "display_data"
        }
      ],
      "source": [
        "#CONFUSION MATRIX OF RANDOM FOREST CLASSIFICATION\n",
        "print(ConfusionMatrixDisplay.from_predictions(y_test,y_pred_rf))"
      ]
    },
    {
      "cell_type": "code",
      "execution_count": 141,
      "metadata": {
        "colab": {
          "base_uri": "https://localhost:8080/"
        },
        "id": "s1C8yrMXLbqI",
        "outputId": "fd2cae9c-b292-4a95-9342-4ef09f7148cb"
      },
      "outputs": [
        {
          "name": "stdout",
          "output_type": "stream",
          "text": [
            "              precision    recall  f1-score   support\n",
            "\n",
            "           0       0.90      0.93      0.91        28\n",
            "           1       0.94      0.91      0.92        32\n",
            "\n",
            "    accuracy                           0.92        60\n",
            "   macro avg       0.92      0.92      0.92        60\n",
            "weighted avg       0.92      0.92      0.92        60\n",
            "\n"
          ]
        }
      ],
      "source": [
        "#ADABOOST CLASSIFICATION AFTER OVER SAMPLING\n",
        "ab1=AdaBoostClassifier(random_state=1)\n",
        "ab1.fit(X_train,y_train)\n",
        "y_pred12=ab1.predict(X_test)\n",
        "print(classification_report(y_test,y_pred12))"
      ]
    },
    {
      "cell_type": "code",
      "execution_count": 142,
      "metadata": {
        "colab": {
          "base_uri": "https://localhost:8080/"
        },
        "id": "NMx2_zlPLwWM",
        "outputId": "6f3adf0d-f744-40db-ac9b-a75d62c1abe4"
      },
      "outputs": [
        {
          "data": {
            "text/plain": [
              "{'n_estimators': 75}"
            ]
          },
          "execution_count": 142,
          "metadata": {},
          "output_type": "execute_result"
        }
      ],
      "source": [
        "#HYPER PARAMETER TUNING OF ADABOOST CLASSIFIER\n",
        "ab2=AdaBoostClassifier()\n",
        "params_ab={'n_estimators':[50,75,100,125,150]}\n",
        "clf5=GridSearchCV(ab2,params_ab,cv=5,scoring='accuracy')\n",
        "clf5.fit(X_train,y_train)\n",
        "clf5.best_params_"
      ]
    },
    {
      "cell_type": "code",
      "execution_count": 143,
      "metadata": {
        "colab": {
          "base_uri": "https://localhost:8080/"
        },
        "id": "mIebFbU5Guv0",
        "outputId": "1efb3f01-4b9c-4314-a980-5bda577f9cf6"
      },
      "outputs": [
        {
          "name": "stdout",
          "output_type": "stream",
          "text": [
            "              precision    recall  f1-score   support\n",
            "\n",
            "           0       0.87      0.96      0.92        28\n",
            "           1       0.97      0.88      0.92        32\n",
            "\n",
            "    accuracy                           0.92        60\n",
            "   macro avg       0.92      0.92      0.92        60\n",
            "weighted avg       0.92      0.92      0.92        60\n",
            "\n"
          ]
        }
      ],
      "source": [
        "#ADABOOST CLASSIFICATION AFTER HYPER PARAMETER TUNING\n",
        "ab3=AdaBoostClassifier(n_estimators=75,random_state=1)\n",
        "ab3.fit(X_train,y_train)\n",
        "y_pred_ab=ab3.predict(X_test)\n",
        "print(classification_report(y_test,y_pred_ab))"
      ]
    },
    {
      "cell_type": "code",
      "execution_count": 144,
      "metadata": {
        "colab": {
          "base_uri": "https://localhost:8080/"
        },
        "id": "-aL2iggJu5xT",
        "outputId": "586e145c-4f98-4470-febf-f5d2f7db232f"
      },
      "outputs": [
        {
          "name": "stdout",
          "output_type": "stream",
          "text": [
            "              precision    recall  f1-score   support\n",
            "\n",
            "           0       1.00      0.96      0.98        28\n",
            "           1       0.97      1.00      0.98        32\n",
            "\n",
            "    accuracy                           0.98        60\n",
            "   macro avg       0.98      0.98      0.98        60\n",
            "weighted avg       0.98      0.98      0.98        60\n",
            "\n"
          ]
        }
      ],
      "source": [
        "#XGBOOST CLASSIFICATION AFTER OVER SAMPLING\n",
        "xg1=XGBClassifier(n_estimators=75)\n",
        "xg1.fit(X_train,y_train)\n",
        "y_pred13=xg1.predict(X_test)\n",
        "print(classification_report(y_test,y_pred13))"
      ]
    },
    {
      "cell_type": "code",
      "execution_count": 145,
      "metadata": {
        "colab": {
          "base_uri": "https://localhost:8080/"
        },
        "id": "1yaG8blUyBPG",
        "outputId": "2c5be264-c5c0-436e-f2b3-720059bc9ba2"
      },
      "outputs": [
        {
          "name": "stdout",
          "output_type": "stream",
          "text": [
            "The Song is Disliked\n"
          ]
        }
      ],
      "source": [
        "#PREDICTION USING XGBOOSTCLASSIFIER\n",
        "y_new1=xg1.predict(mm1.transform([[0.803,0.6240,7,-6.764,0,0.0477,0.451,0.000734,0.1000,0.628000,95.968,304524,4]]))\n",
        "if y_new1==1:\n",
        "  print('The Song is Liked')\n",
        "else:\n",
        "  print('The Song is Disliked')"
      ]
    },
    {
      "cell_type": "code",
      "execution_count": 146,
      "metadata": {
        "colab": {
          "base_uri": "https://localhost:8080/"
        },
        "id": "ZPUaKOgKYfPd",
        "outputId": "b84d7d92-2176-4b60-ff5d-85342be527b6"
      },
      "outputs": [
        {
          "name": "stdout",
          "output_type": "stream",
          "text": [
            "The Song is Liked\n"
          ]
        }
      ],
      "source": [
        "y_new2=xg1.predict(mm1.transform([[0.762,0.7030,10,-7.951,0,0.3060,0.2060,0.000000,0.0912,0.519,151.329,247178,4]]))\n",
        "if y_new2==1:\n",
        "  print('The Song is Liked')\n",
        "else:\n",
        "  print('The Song is Disliked')"
      ]
    },
    {
      "cell_type": "code",
      "execution_count": 147,
      "metadata": {
        "colab": {
          "base_uri": "https://localhost:8080/",
          "height": 466
        },
        "id": "7TDx8GOah3Ta",
        "outputId": "82d0f0d0-5a2c-4465-dfef-625741ab0681"
      },
      "outputs": [
        {
          "name": "stdout",
          "output_type": "stream",
          "text": [
            "<sklearn.metrics._plot.confusion_matrix.ConfusionMatrixDisplay object at 0x7fe50b69dbe0>\n"
          ]
        },
        {
          "data": {
            "image/png": "[encoded data removed]",
            "text/plain": [
              "<Figure size 640x480 with 2 Axes>"
            ]
          },
          "metadata": {},
          "output_type": "display_data"
        }
      ],
      "source": [
        "print(ConfusionMatrixDisplay.from_predictions(y_test,y_pred13))"
      ]
    },
    {
      "cell_type": "markdown",
      "metadata": {
        "id": "Yg-EN31ZzIlL"
      },
      "source": [
        "**FEATURE EXTRACTION - PRINCIPLE COMPONENT ANALYSIS**"
      ]
    },
    {
      "cell_type": "code",
      "execution_count": 148,
      "metadata": {
        "id": "TyKbIUZ4L8eo"
      },
      "outputs": [],
      "source": [
        "#PRINCIPLE COMPONENT ANALYSIS OF RANDOM FOREST CLASSIFICATION\n",
        "pca=PCA(n_components=7)\n",
        "X_train=pca.fit_transform(X_train)\n",
        "X_test=pca.transform(X_test)"
      ]
    },
    {
      "cell_type": "code",
      "execution_count": 149,
      "metadata": {
        "colab": {
          "base_uri": "https://localhost:8080/"
        },
        "id": "ixwNHw__Neb7",
        "outputId": "025fb919-d6e0-46bc-f938-e2d3ea40acf4"
      },
      "outputs": [
        {
          "name": "stdout",
          "output_type": "stream",
          "text": [
            "              precision    recall  f1-score   support\n",
            "\n",
            "           0       0.90      1.00      0.95        28\n",
            "           1       1.00      0.91      0.95        32\n",
            "\n",
            "    accuracy                           0.95        60\n",
            "   macro avg       0.95      0.95      0.95        60\n",
            "weighted avg       0.95      0.95      0.95        60\n",
            "\n"
          ]
        }
      ],
      "source": [
        "#RANDOM FOREST CLASSIFICATION AFTER PRINCIPLE COMPONENT ANALYSIS\n",
        "rf4=RandomForestClassifier(n_estimators=100,criterion='entropy',random_state=1)\n",
        "rf4.fit(X_train,y_train)\n",
        "y_pred_pca=rf4.predict(X_test)\n",
        "print(classification_report(y_test,y_pred_pca))"
      ]
    },
    {
      "cell_type": "code",
      "execution_count": 150,
      "metadata": {
        "colab": {
          "base_uri": "https://localhost:8080/",
          "height": 466
        },
        "id": "v7RvNjNeoUGb",
        "outputId": "e3576518-8bc4-444c-ad9e-863101c0565d"
      },
      "outputs": [
        {
          "name": "stdout",
          "output_type": "stream",
          "text": [
            "<sklearn.metrics._plot.confusion_matrix.ConfusionMatrixDisplay object at 0x7fe50b6fa1f0>\n"
          ]
        },
        {
          "data": {
            "image/png": "[encoded data removed]",
            "text/plain": [
              "<Figure size 640x480 with 2 Axes>"
            ]
          },
          "metadata": {},
          "output_type": "display_data"
        }
      ],
      "source": [
        "print(ConfusionMatrixDisplay.from_predictions(y_test,y_pred_pca))"
      ]
    },
    {
      "cell_type": "code",
      "execution_count": 151,
      "metadata": {
        "colab": {
          "base_uri": "https://localhost:8080/"
        },
        "id": "s9TERoeWWp1N",
        "outputId": "cea181e2-ddbc-4760-f3bb-232629ba2d87"
      },
      "outputs": [
        {
          "data": {
            "text/plain": [
              "array([0.29235432, 0.23330621, 0.13985973, 0.10381601, 0.0621901 ,\n",
              "       0.04331107, 0.033109  ])"
            ]
          },
          "execution_count": 151,
          "metadata": {},
          "output_type": "execute_result"
        }
      ],
      "source": [
        "pca.explained_variance_ratio_"
      ]
    },
    {
      "cell_type": "markdown",
      "metadata": {
        "id": "6KOcH5dgmzdM"
      },
      "source": [
        "**FEATURE SELECTION**"
      ]
    },
    {
      "cell_type": "code",
      "execution_count": 152,
      "metadata": {
        "colab": {
          "base_uri": "https://localhost:8080/"
        },
        "id": "TZFa6FGNRuQ8",
        "outputId": "660b09e4-022a-44e2-ae3f-9c19fbddb4ac"
      },
      "outputs": [
        {
          "data": {
            "text/plain": [
              "(200, 8)"
            ]
          },
          "execution_count": 152,
          "metadata": {},
          "output_type": "execute_result"
        }
      ],
      "source": [
        "#CHI-SQUARE TEST\n",
        "chi2_selector=SelectKBest(chi2,k=8)\n",
        "X_kbest=chi2_selector.fit_transform(X_sc1,y_os)\n",
        "X_kbest.shape"
      ]
    },
    {
      "cell_type": "code",
      "execution_count": 153,
      "metadata": {
        "colab": {
          "base_uri": "https://localhost:8080/"
        },
        "id": "0-PPKWwO0HNV",
        "outputId": "0f0ff153-6f51-458f-98e2-f07d4151ed04"
      },
      "outputs": [
        {
          "name": "stdout",
          "output_type": "stream",
          "text": [
            "X_kbest_indices: [ 0  3  5  6  7  9 10 11]\n",
            "selected_features: ['danceability', 'loudness', 'speechiness', 'acousticness', 'instrumentalness', 'valence', 'tempo', 'duration_ms']\n"
          ]
        }
      ],
      "source": [
        "X_kbest_indices=chi2_selector.get_support(indices=True)\n",
        "print('X_kbest_indices:',X_kbest_indices)\n",
        "print('selected_features:',df.columns[X_kbest_indices].tolist())"
      ]
    },
    {
      "cell_type": "code",
      "execution_count": 154,
      "metadata": {
        "colab": {
          "base_uri": "https://localhost:8080/",
          "height": 423
        },
        "id": "c9e_X8JQ_DNw",
        "outputId": "9ea65ca2-6974-4096-d9ad-902f98659625"
      },
      "outputs": [
        {
          "data": {
            "text/html": [
              "<div>\n",
              "<style scoped>\n",
              "    .dataframe tbody tr th:only-of-type {\n",
              "        vertical-align: middle;\n",
              "    }\n",
              "\n",
              "    .dataframe tbody tr th {\n",
              "        vertical-align: top;\n",
              "    }\n",
              "\n",
              "    .dataframe thead th {\n",
              "        text-align: right;\n",
              "    }\n",
              "</style>\n",
              "<table border=\"1\" class=\"dataframe\">\n",
              "  <thead>\n",
              "    <tr style=\"text-align: right;\">\n",
              "      <th></th>\n",
              "      <th>danceability</th>\n",
              "      <th>loudness</th>\n",
              "      <th>speechiness</th>\n",
              "      <th>acousticness</th>\n",
              "      <th>instrumentalness</th>\n",
              "      <th>valence</th>\n",
              "      <th>tempo</th>\n",
              "      <th>duration_ms</th>\n",
              "    </tr>\n",
              "  </thead>\n",
              "  <tbody>\n",
              "    <tr>\n",
              "      <th>0</th>\n",
              "      <td>0.803000</td>\n",
              "      <td>-6.764000</td>\n",
              "      <td>0.047700</td>\n",
              "      <td>0.451000</td>\n",
              "      <td>0.000734</td>\n",
              "      <td>0.628000</td>\n",
              "      <td>95.968000</td>\n",
              "      <td>304524</td>\n",
              "    </tr>\n",
              "    <tr>\n",
              "      <th>1</th>\n",
              "      <td>0.762000</td>\n",
              "      <td>-7.951000</td>\n",
              "      <td>0.306000</td>\n",
              "      <td>0.206000</td>\n",
              "      <td>0.000000</td>\n",
              "      <td>0.519000</td>\n",
              "      <td>151.329000</td>\n",
              "      <td>247178</td>\n",
              "    </tr>\n",
              "    <tr>\n",
              "      <th>2</th>\n",
              "      <td>0.261000</td>\n",
              "      <td>-27.528000</td>\n",
              "      <td>0.041900</td>\n",
              "      <td>0.992000</td>\n",
              "      <td>0.897000</td>\n",
              "      <td>0.164846</td>\n",
              "      <td>75.296000</td>\n",
              "      <td>286987</td>\n",
              "    </tr>\n",
              "    <tr>\n",
              "      <th>3</th>\n",
              "      <td>0.722000</td>\n",
              "      <td>-6.994000</td>\n",
              "      <td>0.058500</td>\n",
              "      <td>0.431000</td>\n",
              "      <td>0.000001</td>\n",
              "      <td>0.582000</td>\n",
              "      <td>89.860000</td>\n",
              "      <td>208920</td>\n",
              "    </tr>\n",
              "    <tr>\n",
              "      <th>4</th>\n",
              "      <td>0.787000</td>\n",
              "      <td>-7.516000</td>\n",
              "      <td>0.222000</td>\n",
              "      <td>0.145000</td>\n",
              "      <td>0.000000</td>\n",
              "      <td>0.647000</td>\n",
              "      <td>155.117000</td>\n",
              "      <td>179413</td>\n",
              "    </tr>\n",
              "    <tr>\n",
              "      <th>...</th>\n",
              "      <td>...</td>\n",
              "      <td>...</td>\n",
              "      <td>...</td>\n",
              "      <td>...</td>\n",
              "      <td>...</td>\n",
              "      <td>...</td>\n",
              "      <td>...</td>\n",
              "      <td>...</td>\n",
              "    </tr>\n",
              "    <tr>\n",
              "      <th>195</th>\n",
              "      <td>0.398538</td>\n",
              "      <td>-19.661890</td>\n",
              "      <td>0.072767</td>\n",
              "      <td>0.857057</td>\n",
              "      <td>0.112453</td>\n",
              "      <td>0.124000</td>\n",
              "      <td>100.426888</td>\n",
              "      <td>270383</td>\n",
              "    </tr>\n",
              "    <tr>\n",
              "      <th>196</th>\n",
              "      <td>0.777040</td>\n",
              "      <td>-7.706052</td>\n",
              "      <td>0.070366</td>\n",
              "      <td>0.292914</td>\n",
              "      <td>0.000029</td>\n",
              "      <td>0.124039</td>\n",
              "      <td>119.950259</td>\n",
              "      <td>247160</td>\n",
              "    </tr>\n",
              "    <tr>\n",
              "      <th>197</th>\n",
              "      <td>0.767178</td>\n",
              "      <td>-6.047280</td>\n",
              "      <td>0.079832</td>\n",
              "      <td>0.149038</td>\n",
              "      <td>0.213921</td>\n",
              "      <td>0.124000</td>\n",
              "      <td>107.655743</td>\n",
              "      <td>213077</td>\n",
              "    </tr>\n",
              "    <tr>\n",
              "      <th>198</th>\n",
              "      <td>0.715815</td>\n",
              "      <td>-8.256011</td>\n",
              "      <td>0.062476</td>\n",
              "      <td>0.091488</td>\n",
              "      <td>0.002455</td>\n",
              "      <td>0.140199</td>\n",
              "      <td>102.914440</td>\n",
              "      <td>245593</td>\n",
              "    </tr>\n",
              "    <tr>\n",
              "      <th>199</th>\n",
              "      <td>0.361544</td>\n",
              "      <td>-24.432096</td>\n",
              "      <td>0.038744</td>\n",
              "      <td>0.991612</td>\n",
              "      <td>0.928129</td>\n",
              "      <td>0.124000</td>\n",
              "      <td>65.105052</td>\n",
              "      <td>241497</td>\n",
              "    </tr>\n",
              "  </tbody>\n",
              "</table>\n",
              "<p>200 rows × 8 columns</p>\n",
              "</div>"
            ],
            "text/plain": [
              "     danceability   loudness  speechiness  acousticness  instrumentalness   \n",
              "0        0.803000  -6.764000     0.047700      0.451000          0.000734  \\\n",
              "1        0.762000  -7.951000     0.306000      0.206000          0.000000   \n",
              "2        0.261000 -27.528000     0.041900      0.992000          0.897000   \n",
              "3        0.722000  -6.994000     0.058500      0.431000          0.000001   \n",
              "4        0.787000  -7.516000     0.222000      0.145000          0.000000   \n",
              "..            ...        ...          ...           ...               ...   \n",
              "195      0.398538 -19.661890     0.072767      0.857057          0.112453   \n",
              "196      0.777040  -7.706052     0.070366      0.292914          0.000029   \n",
              "197      0.767178  -6.047280     0.079832      0.149038          0.213921   \n",
              "198      0.715815  -8.256011     0.062476      0.091488          0.002455   \n",
              "199      0.361544 -24.432096     0.038744      0.991612          0.928129   \n",
              "\n",
              "      valence       tempo  duration_ms  \n",
              "0    0.628000   95.968000       304524  \n",
              "1    0.519000  151.329000       247178  \n",
              "2    0.164846   75.296000       286987  \n",
              "3    0.582000   89.860000       208920  \n",
              "4    0.647000  155.117000       179413  \n",
              "..        ...         ...          ...  \n",
              "195  0.124000  100.426888       270383  \n",
              "196  0.124039  119.950259       247160  \n",
              "197  0.124000  107.655743       213077  \n",
              "198  0.140199  102.914440       245593  \n",
              "199  0.124000   65.105052       241497  \n",
              "\n",
              "[200 rows x 8 columns]"
            ]
          },
          "execution_count": 154,
          "metadata": {},
          "output_type": "execute_result"
        }
      ],
      "source": [
        "#Drop other features to get a new dataset\n",
        "X_os.drop(['energy','mode','time_signature','key','liveness'],axis=1,inplace=True)\n",
        "X_os"
      ]
    },
    {
      "cell_type": "code",
      "execution_count": 155,
      "metadata": {
        "id": "TNa8txHw_AjR"
      },
      "outputs": [],
      "source": [
        "mm2=MinMaxScaler()\n",
        "X_sc2=mm2.fit_transform(X_os,y_os)"
      ]
    },
    {
      "cell_type": "code",
      "execution_count": 156,
      "metadata": {
        "id": "PGRocR6IUz6_"
      },
      "outputs": [],
      "source": [
        "X_train,X_test,y_train,y_test=train_test_split(X_kbest,y_os,test_size=0.3,random_state=1)"
      ]
    },
    {
      "cell_type": "code",
      "execution_count": 157,
      "metadata": {
        "colab": {
          "base_uri": "https://localhost:8080/"
        },
        "id": "KQGIrR21VQVc",
        "outputId": "1a255fde-1418-4fbe-f8fd-0b03b4a61fc8"
      },
      "outputs": [
        {
          "name": "stdout",
          "output_type": "stream",
          "text": [
            "              precision    recall  f1-score   support\n",
            "\n",
            "           0       1.00      0.96      0.98        28\n",
            "           1       0.97      1.00      0.98        32\n",
            "\n",
            "    accuracy                           0.98        60\n",
            "   macro avg       0.98      0.98      0.98        60\n",
            "weighted avg       0.98      0.98      0.98        60\n",
            "\n"
          ]
        }
      ],
      "source": [
        "#RANDOM FOREST CLASSIFICATION AFTER CHI-SQUARE TEST\n",
        "rf5=RandomForestClassifier(n_estimators=100,criterion='entropy',random_state=1)\n",
        "rf5.fit(X_train,y_train)\n",
        "y_pred_chi2=rf5.predict(X_test)\n",
        "print(classification_report(y_test,y_pred_chi2))"
      ]
    },
    {
      "cell_type": "code",
      "execution_count": 158,
      "metadata": {
        "colab": {
          "base_uri": "https://localhost:8080/",
          "height": 466
        },
        "id": "cP_r4JNAXGYS",
        "outputId": "b1856384-18e6-43fb-a740-dc687f980f90"
      },
      "outputs": [
        {
          "name": "stdout",
          "output_type": "stream",
          "text": [
            "<sklearn.metrics._plot.confusion_matrix.ConfusionMatrixDisplay object at 0x7fe4f1e55be0>\n"
          ]
        },
        {
          "data": {
            "image/png": "[encoded data removed]",
            "text/plain": [
              "<Figure size 640x480 with 2 Axes>"
            ]
          },
          "metadata": {},
          "output_type": "display_data"
        }
      ],
      "source": [
        "print(ConfusionMatrixDisplay.from_predictions(y_test,y_pred_chi2))"
      ]
    },
    {
      "cell_type": "code",
      "execution_count": 159,
      "metadata": {
        "colab": {
          "base_uri": "https://localhost:8080/",
          "height": 430
        },
        "id": "KOn-0FiM4-V_",
        "outputId": "3fc4f527-38bb-4bbd-c720-4ae338286a7b"
      },
      "outputs": [
        {
          "data": {
            "image/png": "[encoded data removed]",
            "text/plain": [
              "<Figure size 640x480 with 1 Axes>"
            ]
          },
          "metadata": {},
          "output_type": "display_data"
        }
      ],
      "source": [
        "from sklearn.preprocessing import StandardScaler\n",
        "\n",
        "# Convert y_os to a numpy array\n",
        "y_os_np = np.array(y_os)\n",
        "\n",
        "# Standardize the features\n",
        "scaler = StandardScaler()\n",
        "X_sc1 = scaler.fit_transform(X_sc1)\n",
        "\n",
        "# FISHER'S SCORE\n",
        "ranks = fisher_score.fisher_score(X_sc1, y_os_np)\n",
        "feat_importance = pd.Series(ranks, df.columns[0:len(df.columns)-1])\n",
        "\n",
        "# Convert to a numpy array before indexing\n",
        "feat_importance_np = feat_importance.values\n",
        "\n",
        "# Use the numpy array for indexing\n",
        "feat_importance_plot = pd.Series(feat_importance_np, df.columns[0:len(df.columns)-1])\n",
        "\n",
        "feat_importance_plot.plot(kind='barh')\n",
        "plt.show()"
      ]
    },
    {
      "cell_type": "markdown",
      "metadata": {
        "id": "GhzoyInKm7eI"
      },
      "source": [
        "**CREATING A TABLE FOR DIFFERENT ALGORITHMS**"
      ]
    },
    {
      "cell_type": "code",
      "execution_count": 160,
      "metadata": {
        "colab": {
          "base_uri": "https://localhost:8080/",
          "height": 269
        },
        "id": "Q7L5ZS8ab9kF",
        "outputId": "aab924be-dbbf-4f7f-bbd0-e2169f0388ad"
      },
      "outputs": [
        {
          "data": {
            "text/html": [
              "<div>\n",
              "<style scoped>\n",
              "    .dataframe tbody tr th:only-of-type {\n",
              "        vertical-align: middle;\n",
              "    }\n",
              "\n",
              "    .dataframe tbody tr th {\n",
              "        vertical-align: top;\n",
              "    }\n",
              "\n",
              "    .dataframe thead th {\n",
              "        text-align: right;\n",
              "    }\n",
              "</style>\n",
              "<table border=\"1\" class=\"dataframe\">\n",
              "  <thead>\n",
              "    <tr style=\"text-align: right;\">\n",
              "      <th></th>\n",
              "      <th>without_oversampling</th>\n",
              "      <th>oversampling</th>\n",
              "      <th>hyper_parameter_tuning</th>\n",
              "    </tr>\n",
              "  </thead>\n",
              "  <tbody>\n",
              "    <tr>\n",
              "      <th>KNeighborsClassifier</th>\n",
              "      <td>90</td>\n",
              "      <td>88</td>\n",
              "      <td>88</td>\n",
              "    </tr>\n",
              "    <tr>\n",
              "      <th>SupportVectorClassifier</th>\n",
              "      <td>88</td>\n",
              "      <td>95</td>\n",
              "      <td>95</td>\n",
              "    </tr>\n",
              "    <tr>\n",
              "      <th>NaiveBayesClassifier</th>\n",
              "      <td>92</td>\n",
              "      <td>90</td>\n",
              "      <td>0</td>\n",
              "    </tr>\n",
              "    <tr>\n",
              "      <th>DicisionTreeClassifier</th>\n",
              "      <td>93</td>\n",
              "      <td>90</td>\n",
              "      <td>95</td>\n",
              "    </tr>\n",
              "    <tr>\n",
              "      <th>RandomForestClassifier</th>\n",
              "      <td>93</td>\n",
              "      <td>98</td>\n",
              "      <td>98</td>\n",
              "    </tr>\n",
              "    <tr>\n",
              "      <th>AdaBoostClassifier</th>\n",
              "      <td>90</td>\n",
              "      <td>92</td>\n",
              "      <td>92</td>\n",
              "    </tr>\n",
              "    <tr>\n",
              "      <th>XGBoostClassifier</th>\n",
              "      <td>93</td>\n",
              "      <td>98</td>\n",
              "      <td>0</td>\n",
              "    </tr>\n",
              "  </tbody>\n",
              "</table>\n",
              "</div>"
            ],
            "text/plain": [
              "                         without_oversampling  oversampling   \n",
              "KNeighborsClassifier                       90            88  \\\n",
              "SupportVectorClassifier                    88            95   \n",
              "NaiveBayesClassifier                       92            90   \n",
              "DicisionTreeClassifier                     93            90   \n",
              "RandomForestClassifier                     93            98   \n",
              "AdaBoostClassifier                         90            92   \n",
              "XGBoostClassifier                          93            98   \n",
              "\n",
              "                         hyper_parameter_tuning  \n",
              "KNeighborsClassifier                         88  \n",
              "SupportVectorClassifier                      95  \n",
              "NaiveBayesClassifier                          0  \n",
              "DicisionTreeClassifier                       95  \n",
              "RandomForestClassifier                       98  \n",
              "AdaBoostClassifier                           92  \n",
              "XGBoostClassifier                             0  "
            ]
          },
          "execution_count": 160,
          "metadata": {},
          "output_type": "execute_result"
        }
      ],
      "source": [
        "dataset=pd.DataFrame({'without_oversampling':[90,88,92,93,93,90,93],'oversampling':[88,95,90,90,98,92,98],'hyper_parameter_tuning':[88,95,0,95,98,92,0]},\n",
        "   index=['KNeighborsClassifier','SupportVectorClassifier','NaiveBayesClassifier','DicisionTreeClassifier','RandomForestClassifier','AdaBoostClassifier','XGBoostClassifier'])\n",
        "dataset"
      ]
    },
    {
      "cell_type": "markdown",
      "metadata": {
        "id": "S_qV0i9Hnzua"
      },
      "source": [
        "**PLOT THE GRAPH OF ALGORITHMS VS ACCURACY**"
      ]
    },
    {
      "cell_type": "code",
      "execution_count": 161,
      "metadata": {
        "colab": {
          "base_uri": "https://localhost:8080/",
          "height": 885
        },
        "id": "29gz0uQUxi7S",
        "outputId": "3acfc360-2db1-48e5-b63e-2520a346d094"
      },
      "outputs": [
        {
          "data": {
            "text/plain": [
              "Text(0.5, 1.0, 'ALGORITHMS VS ACCURACY')"
            ]
          },
          "execution_count": 161,
          "metadata": {},
          "output_type": "execute_result"
        },
        {
          "data": {
            "image/png": "[encoded data removed]",
            "text/plain": [
              "<Figure size 1000x800 with 1 Axes>"
            ]
          },
          "metadata": {},
          "output_type": "display_data"
        }
      ],
      "source": [
        "dataset.plot(kind='bar',figsize=(10,8))\n",
        "plt.xlabel('Algorithms')\n",
        "plt.ylabel('Accuracy')\n",
        "plt.title('ALGORITHMS VS ACCURACY')\n"
      ]
    },
    {
      "cell_type": "markdown",
      "metadata": {
        "id": "ImcQLSh3SNjp"
      },
      "source": [
        "**CONCLUSION**: From the performance evaluation of different algorithms Random Forest Classification and XGBoost Classification have generated the model with higher accuracy after over sampling. After feature selection a model is created using Random Forest Classification which also gives higher accuracy."
      ]
    },
    {
      "cell_type": "markdown",
      "metadata": {
        "id": "IvP9-ZFF--i3"
      },
      "source": [
        "**SAVING THE MODEL**"
      ]
    },
    {
      "cell_type": "code",
      "execution_count": 164,
      "metadata": {
        "id": "Cc7r7G1z--Py"
      },
      "outputs": [],
      "source": [
        "import pickle\n",
        "\n",
        "# Specify the full path to the directory where you want to save the files\n",
        "save_directory = '/Users/kagantimur/Desktop/Spotify Predictive Model'\n",
        "\n",
        "# Save the model and scaler\n",
        "with open(f'{save_directory}/spotify_model', 'wb') as model_file:\n",
        "    pickle.dump(rf5, model_file)\n",
        "\n",
        "with open(f'{save_directory}/spotify_scaler', 'wb') as scaler_file:\n",
        "    pickle.dump(mm2, scaler_file)\n"
      ]
    },
    {
      "cell_type": "code",
      "execution_count": 170,
      "metadata": {
        "colab": {
          "base_uri": "https://localhost:8080/"
        },
        "id": "5EZNiEoyJcL9",
        "outputId": "5aa1518c-e495-4519-9b57-6289cc415dcf"
      },
      "outputs": [
        {
          "name": "stdout",
          "output_type": "stream",
          "text": [
            "The Song is Liked\n"
          ]
        }
      ],
      "source": [
        "import pickle\n",
        "\n",
        "model = pickle.load(open('/Users/kagantimur/Desktop/Spotify Predictive Model/spotify_model', 'rb'))\n",
        "scaler = pickle.load(open('/Users/kagantimur/Desktop/Spotify Predictive Model/spotify_scaler', 'rb'))\n",
        "\n",
        "# These are just hypothetical values you provided for illustration purposes\n",
        "y_pred_new = model.predict(scaler.transform([[0.762, -7.951, 0.306, 0.206, 0.000, 0.519, 151.329, 247178]]))\n",
        "\n",
        "if y_pred_new == 1:\n",
        "    print('The Song is Liked')\n",
        "else:\n",
        "    print('The Song is Disliked')"
      ]
    }
  ],
  "metadata": {
    "colab": {
      "provenance": []
    },
    "kernelspec": {
      "display_name": "Python 3",
      "name": "python3"
    },
    "language_info": {
      "codemirror_mode": {
        "name": "ipython",
        "version": 3
      },
      "file_extension": ".py",
      "mimetype": "text/x-python",
      "name": "python",
      "nbconvert_exporter": "python",
      "pygments_lexer": "ipython3",
      "version": "3.9.13"
    }
  },
  "nbformat": 4,
  "nbformat_minor": 0
}
